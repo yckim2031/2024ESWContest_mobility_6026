{
 "cells": [
  {
   "cell_type": "code",
   "execution_count": 30,
   "id": "e126608a-e65d-4d57-b3ef-f8ddc5ce15ff",
   "metadata": {},
   "outputs": [
    {
     "name": "stdout",
     "output_type": "stream",
     "text": [
      "2.12.0\n"
     ]
    }
   ],
   "source": [
    "import numpy as np\n",
    "import matplotlib.pyplot as plt\n",
    "import neurokit2 as nk\n",
    "import tensorflow as tf\n",
    "import os\n",
    "from tensorflow import keras\n",
    "import utils\n",
    "from scipy.signal import resample, cheby1, filtfilt\n",
    "from sklearn.preprocessing import MinMaxScaler\n",
    "\n",
    "print(tf.version.VERSION)"
   ]
  },
  {
   "cell_type": "code",
   "execution_count": 11,
   "id": "6e7725ca-43cd-465b-8b1a-6ebfc94f160b",
   "metadata": {},
   "outputs": [],
   "source": [
    "# Data load & Get rid of corrupted labelled data frame\n",
    "data = np.load(\"/home/yckim/research/ecg_id/dataset/icentia/raw/00000/00000_dataset.npz\", allow_pickle = True)\n",
    "ecg_sigs = data['data']\n",
    "labels = data['labels'].item()\n",
    "norm_b_indices = np.where(labels['beat_type'] == 1) # 1\n",
    "norm_r_indices = np.where(labels['rhythm_type'] == 3) # 3\n",
    "\n",
    "# 공통 요소 추출\n",
    "common_elements = np.intersect1d(norm_b_indices, norm_r_indices)\n",
    "ecg_norm_sigs = ecg_sigs[common_elements]\n",
    "ecg_sig_len = 1250\n",
    "ecg_norm_sigs_5s = ecg_norm_sigs[:,:ecg_sig_len].copy() # 모델이 5초간 잘라서 sqa 하는거라, 5초로 강제로 자르기"
   ]
  },
  {
   "cell_type": "code",
   "execution_count": 41,
   "id": "fa3d750a-349c-4833-b0e7-6df7751e3232",
   "metadata": {},
   "outputs": [],
   "source": [
    "a = nk.ecg_peaks(ecg_norm_sigs_5s[0], sampling_rate=250)[1]\n",
    "_, waves_peak = nk.ecg_delineate(ecg_norm_sigs_5s[0], sampling_rate=250, method=\"peak\")"
   ]
  },
  {
   "cell_type": "code",
   "execution_count": 15,
   "id": "22bfba6d-4b14-4e15-8d91-18d0ede76657",
   "metadata": {},
   "outputs": [],
   "source": [
    "data = np.load(\"/home/yckim/research/ecg_id/dataset/icentia/processed_3/07221/07221.npz\")"
   ]
  },
  {
   "cell_type": "code",
   "execution_count": 16,
   "id": "0a76b49e-4211-4784-b449-8dacfa0a6cae",
   "metadata": {},
   "outputs": [
    {
     "data": {
      "text/plain": [
       "(88, 600)"
      ]
     },
     "execution_count": 16,
     "metadata": {},
     "output_type": "execute_result"
    }
   ],
   "source": [
    "data[\"data\"].shape"
   ]
  },
  {
   "cell_type": "code",
   "execution_count": 166,
   "id": "fdd633e5-86d1-47d5-a23c-4947ad9e8134",
   "metadata": {},
   "outputs": [
    {
     "name": "stdout",
     "output_type": "stream",
     "text": [
      "549 paths are found\n"
     ]
    }
   ],
   "source": [
    "def find_string_in_list(lst, target):\n",
    "    for i, element in enumerate(lst):\n",
    "        if target in element:  # 특정 문자열이 요소에 포함되어 있는지 확인\n",
    "            return i\n",
    "    return -1  # 문자열이 포함된 요소가 없으면 -1 반환\n",
    "\n",
    "import wfdb\n",
    "data_path_list = utils.path_finder(\"/home/yckim/research/ecg_id/dataset/PTB/original/\", \".hea\")\n",
    "h_list = []\n",
    "for head_path in data_path_list:\n",
    "    rcrd = wfdb.rdrecord(os.path.splitext(head_path)[0])\n",
    "    label = find_string_in_list(rcrd.comments, 'Healthy control')\n",
    "    if label != -1:\n",
    "        h_list.append(head_path)\n",
    "\n",
    "base_save_dir = \"/home/yckim/research/ecg_id/dataset/PTB/raw/\"\n",
    "for h_path in h_list:\n",
    "    rcrd = wfdb.rdrecord(os.path.splitext(h_path)[0])\n",
    "    lead_i_indx = rcrd.sig_name.index('i')\n",
    "    lead_i_sig = rcrd.p_signal[:, lead_i_indx]\n",
    "    save_dir = os.path.join(base_save_dir, h_path.split('/')[-2][-3:])\n",
    "    utils.make_save_dir(save_dir)\n",
    "    save_path = os.path.join(save_dir, rcrd.record_name)\n",
    "    np.savez(save_path, data=lead_i_sig)"
   ]
  },
  {
   "cell_type": "code",
   "execution_count": 167,
   "id": "afe395ad-10a5-4b11-9084-dab5ef705c0d",
   "metadata": {},
   "outputs": [
    {
     "data": {
      "text/plain": [
       "0"
      ]
     },
     "execution_count": 167,
     "metadata": {},
     "output_type": "execute_result"
    }
   ],
   "source": [
    "lead_i_indx"
   ]
  },
  {
   "cell_type": "code",
   "execution_count": 53,
   "id": "b7918521-f81e-4930-a370-e4858c7e420d",
   "metadata": {},
   "outputs": [
    {
     "data": {
      "text/plain": [
       "'252'"
      ]
     },
     "execution_count": 53,
     "metadata": {},
     "output_type": "execute_result"
    }
   ],
   "source": [
    "h_list[0].split('/')[-2][-3:]"
   ]
  },
  {
   "cell_type": "code",
   "execution_count": 41,
   "id": "556717de-564e-4b7f-a3d8-683239e73f9a",
   "metadata": {
    "collapsed": true,
    "jupyter": {
     "outputs_hidden": true
    }
   },
   "outputs": [
    {
     "name": "stdout",
     "output_type": "stream",
     "text": [
      "s0487_re\n",
      "15\n",
      "['i', 'ii', 'iii', 'avr', 'avl', 'avf', 'v1', 'v2', 'v3', 'v4', 'v5', 'v6', 'vx', 'vy', 'vz']\n",
      "['age: 54', 'sex: male', 'ECG date: 14/02/1997', 'Diagnose:', 'Reason for admission: Healthy control', 'Acute infarction (localization): no', 'Former infarction (localization): no', 'Additional diagnoses: no', 'Smoker: unknown', 'Number of coronary vessels involved: unknown', 'Infarction date (acute): n/a', 'Previous infarction (1) date: n/a', 'Previous infarction (2) date: n/a', 'Hemodynamics:', 'Catheterization date: n/a', 'Ventriculography: n/a', 'Chest X-ray: n/a', 'Peripheral blood Pressure (syst/diast): n/a', 'Pulmonary artery pressure (at rest) (syst/diast): n/a', 'Pulmonary artery pressure (at rest) (mean): n/a', 'Pulmonary capillary wedge pressure (at rest): n/a', 'Cardiac output (at rest): n/a', 'Cardiac index (at rest): n/a', 'Stroke volume index (at rest): n/a', 'Pulmonary artery pressure (laod) (syst/diast): n/a', 'Pulmonary artery pressure (laod) (mean): n/a', 'Pulmonary capillary wedge pressure (load): n/a', 'Cardiac output (load): n/a', 'Cardiac index (load): n/a', 'Stroke volume index (load): n/a', 'Aorta (at rest) (syst/diast): n/a', 'Aorta (at rest) mean: n/a', 'Left ventricular enddiastolic pressure: n/a', 'Left coronary artery stenoses (RIVA): n/a', 'Left coronary artery stenoses (RCX): n/a', 'Right coronary artery stenoses (RCA): n/a', 'Echocardiography: n/a', 'Therapy:', 'Infarction date: n/a', 'Catheterization date: n/a', 'Admission date: n/a', 'Medication pre admission: n/a', 'Start lysis therapy (hh.mm): n/a', 'Lytic agent: n/a', 'Dosage (lytic agent): n/a', 'Additional medication: n/a', 'In hospital medication: n/a', 'Medication after discharge: n/a']\n"
     ]
    }
   ],
   "source": [
    "rcrd.p_signal\n",
    "print(rcrd.record_name)\n",
    "print(rcrd.n_sig)\n",
    "print(rcrd.sig_name)\n",
    "print(rcrd.comments)"
   ]
  },
  {
   "cell_type": "code",
   "execution_count": 145,
   "id": "aee230d6-a271-41b3-a701-0e164f196968",
   "metadata": {},
   "outputs": [
    {
     "data": {
      "text/plain": [
       "[<matplotlib.lines.Line2D at 0xfffe40e6afa0>]"
      ]
     },
     "execution_count": 145,
     "metadata": {},
     "output_type": "execute_result"
    },
    {
     "data": {
      "image/png": "[encoded data removed]",
      "text/plain": [
       "<Figure size 640x480 with 1 Axes>"
      ]
     },
     "metadata": {},
     "output_type": "display_data"
    }
   ],
   "source": [
    "import numpy as np\n",
    "import matplotlib.pyplot as plt\n",
    "data = np.load(\"/home/jhhan/Downloads/ecg_id/data/template/2.npz\", allow_pickle = True)\n",
    "plt.plot(data[\"raw_data\"][2])"
   ]
  },
  {
   "cell_type": "code",
   "execution_count": 123,
   "id": "c11273d4-1de7-4935-a7f1-651a504c3261",
   "metadata": {},
   "outputs": [
    {
     "name": "stdout",
     "output_type": "stream",
     "text": [
      "2 paths are found\n"
     ]
    }
   ],
   "source": [
    "import utils\n",
    "template_list = utils.path_finder(\"/home/jhhan/Downloads/ecg_id/data/template/\", '.npz')\n",
    "template_data = []\n",
    "\n",
    "for template in template_list:\n",
    "    data = np.load(template, allow_pickle = True)[\"data\"]\n",
    "    template_data.append(data)\n",
    "    \n"
   ]
  },
  {
   "cell_type": "code",
   "execution_count": 40,
   "id": "52a6f342-ff01-40c6-9340-697b158a7b02",
   "metadata": {},
   "outputs": [
    {
     "data": {
      "text/plain": [
       "(24, 200)"
      ]
     },
     "execution_count": 40,
     "metadata": {},
     "output_type": "execute_result"
    }
   ],
   "source": [
    "target.shape"
   ]
  },
  {
   "cell_type": "code",
   "execution_count": 90,
   "id": "c69176ab-d781-45e3-8356-2f82f939f1ee",
   "metadata": {},
   "outputs": [
    {
     "data": {
      "image/png": "[encoded data removed]",
      "text/plain": [
       "<Figure size 640x480 with 1 Axes>"
      ]
     },
     "metadata": {},
     "output_type": "display_data"
    }
   ],
   "source": [
    "data = np.load(\"/home/jhhan/Downloads/ecg_id/data/template/1.npz\", allow_pickle = True)\n",
    "data2 = np.load(\"/home/jhhan/Downloads/ecg_id/data/template/2.npz\", allow_pickle = True)\n",
    "plt.plot(data[\"data\"])\n",
    "template = data[\"data\"]\n",
    "target = data[\"raw_data\"]\n",
    "\n",
    "# data2 = np.load(\"/home/jhhan/Downloads/ecg_id/data/template/2.npz\", allow_pickle = True)\n",
    "# target2 = data2[\"raw_data\"][5]"
   ]
  },
  {
   "cell_type": "code",
   "execution_count": 99,
   "id": "f3d26781-0fec-453e-a077-1f73b27b739b",
   "metadata": {},
   "outputs": [],
   "source": [
    "def calculate_result(y_prob, threshold):\n",
    "    y_prob_mean = np.mean(y_prob)\n",
    "    likely = 0\n",
    "    if y_prob_mean < threshold:\n",
    "        likely = 0\n",
    "    else:\n",
    "        likely = 1\n",
    "    return likely"
   ]
  },
  {
   "cell_type": "code",
   "execution_count": 105,
   "id": "e8b9a128-cc19-4d9d-8bfd-c98320f09826",
   "metadata": {},
   "outputs": [
    {
     "data": {
      "text/plain": [
       "(25, 200, 1)"
      ]
     },
     "execution_count": 105,
     "metadata": {},
     "output_type": "execute_result"
    }
   ],
   "source": [
    "targets.shape"
   ]
  },
  {
   "cell_type": "code",
   "execution_count": 104,
   "id": "df7abc0c-4582-4b86-b2aa-11f8792d297e",
   "metadata": {},
   "outputs": [
    {
     "data": {
      "text/plain": [
       "(50, 200, 1)"
      ]
     },
     "execution_count": 104,
     "metadata": {},
     "output_type": "execute_result"
    }
   ],
   "source": [
    "templates.shape"
   ]
  },
  {
   "cell_type": "code",
   "execution_count": 106,
   "id": "d6a67c10-9a9d-4785-8e74-6f8c733b9ce9",
   "metadata": {},
   "outputs": [
    {
     "name": "stdout",
     "output_type": "stream",
     "text": [
      "2 paths are found\n",
      "1/1 [==============================] - 0s 103ms/step\n",
      "1\n",
      "1/1 [==============================] - 0s 66ms/step\n",
      "0\n"
     ]
    },
    {
     "data": {
      "image/png": "[encoded data removed]",
      "text/plain": [
       "<Figure size 640x480 with 1 Axes>"
      ]
     },
     "metadata": {},
     "output_type": "display_data"
    }
   ],
   "source": [
    "template_data_list = utils.path_finder(\"/home/jhhan/Downloads/ecg_id/data/template/\", '.npz')\n",
    "temp_target = target.reshape(-1,200,1)\n",
    "data = np.load(\"/home/jhhan/Downloads/ecg_id/data/template/1.npz\", allow_pickle = True)\n",
    "data2 = np.load(\"/home/jhhan/Downloads/ecg_id/data/template/2.npz\", allow_pickle = True)\n",
    "plt.plot(data[\"data\"])\n",
    "template = data[\"data\"]\n",
    "target = data[\"raw_data\"]\n",
    "\n",
    "\n",
    "# targets = np.reshape(processed_sigs, (-1, 200, 1))\n",
    "\n",
    "targets = np.reshape(target, (-1, 200, 1))\n",
    "templates = np.empty((0, 200, 1))\n",
    "for template in template_data_list:\n",
    "    temp_template = np.load(template, allow_pickle=True)[\"data\"]\n",
    "    temp_template = np.reshape(temp_template, (1, 200, 1))\n",
    "    for i in range(targets.shape[0]):\n",
    "        templates = np.concatenate((templates, temp_template), axis = 0)\n",
    "    y_prob = model.predict([templates, targets])\n",
    "    templates = np.empty((0, 200, 1))\n",
    "    print(calculate_result(y_prob, 0.8))"
   ]
  },
  {
   "cell_type": "code",
   "execution_count": 98,
   "id": "4cd2243c-240a-466b-9b0e-dfad5cd76155",
   "metadata": {},
   "outputs": [
    {
     "data": {
      "text/plain": [
       "array([[1.        ],\n",
       "       [1.        ],\n",
       "       [0.9999901 ],\n",
       "       [0.99999917],\n",
       "       [0.9999871 ],\n",
       "       [0.99750024],\n",
       "       [0.99990594],\n",
       "       [0.99999905],\n",
       "       [0.999759  ],\n",
       "       [0.9999982 ],\n",
       "       [0.9999999 ],\n",
       "       [0.99997675],\n",
       "       [0.95004827],\n",
       "       [0.99999976],\n",
       "       [0.9993531 ],\n",
       "       [0.9999708 ],\n",
       "       [0.9999999 ],\n",
       "       [0.9998815 ],\n",
       "       [0.99993646],\n",
       "       [0.9999999 ],\n",
       "       [0.99999833],\n",
       "       [0.99999976],\n",
       "       [0.9989718 ],\n",
       "       [0.999985  ],\n",
       "       [0.9999962 ],\n",
       "       [0.5720653 ],\n",
       "       [0.13864306],\n",
       "       [0.00215201],\n",
       "       [0.0746141 ],\n",
       "       [0.06784437],\n",
       "       [0.12706143],\n",
       "       [0.22714877],\n",
       "       [0.2748551 ],\n",
       "       [0.4315909 ],\n",
       "       [0.10732251],\n",
       "       [0.6569003 ],\n",
       "       [0.41103786],\n",
       "       [0.04325442],\n",
       "       [0.03929099],\n",
       "       [0.531103  ],\n",
       "       [0.5211627 ],\n",
       "       [0.11049099],\n",
       "       [0.8462452 ],\n",
       "       [0.8218033 ],\n",
       "       [0.5925318 ],\n",
       "       [0.0115557 ],\n",
       "       [0.04489569],\n",
       "       [0.3433804 ],\n",
       "       [0.07133333],\n",
       "       [0.17171118]], dtype=float32)"
      ]
     },
     "execution_count": 98,
     "metadata": {},
     "output_type": "execute_result"
    }
   ],
   "source": [
    "y_prob"
   ]
  },
  {
   "cell_type": "code",
   "execution_count": 92,
   "id": "d4a4ab2d-e10e-40af-8c71-8eb95fddb6a4",
   "metadata": {},
   "outputs": [
    {
     "data": {
      "text/plain": [
       "(25, 200, 1)"
      ]
     },
     "execution_count": 92,
     "metadata": {},
     "output_type": "execute_result"
    }
   ],
   "source": [
    "target_input.shape"
   ]
  },
  {
   "cell_type": "code",
   "execution_count": 88,
   "id": "19c2e125-0cf2-4538-86a1-74fe58169ac8",
   "metadata": {},
   "outputs": [
    {
     "data": {
      "text/plain": [
       "[<matplotlib.lines.Line2D at 0xfffea9cbad60>]"
      ]
     },
     "execution_count": 88,
     "metadata": {},
     "output_type": "execute_result"
    },
    {
     "data": {
      "image/png": "[encoded data removed]",
      "text/plain": [
       "<Figure size 640x480 with 1 Axes>"
      ]
     },
     "metadata": {},
     "output_type": "display_data"
    }
   ],
   "source": [
    "plt.plot(templates[25, :, :])"
   ]
  },
  {
   "cell_type": "markdown",
   "id": "931474c9-1795-4e48-9e6c-7827f4a03074",
   "metadata": {},
   "source": [
    "# Model Prediction"
   ]
  },
  {
   "cell_type": "code",
   "execution_count": 3,
   "id": "0b4ab29f-6e7c-4c63-b5c6-286c41c10d33",
   "metadata": {},
   "outputs": [
    {
     "name": "stdout",
     "output_type": "stream",
     "text": [
      "2.12.0\n"
     ]
    }
   ],
   "source": [
    "print(tf.__version__)\n"
   ]
  },
  {
   "cell_type": "code",
   "execution_count": 28,
   "id": "f2f4db26-18d2-4925-97dc-3e9ecba17646",
   "metadata": {},
   "outputs": [],
   "source": [
    "import argparse\n"
   ]
  },
  {
   "cell_type": "code",
   "execution_count": 37,
   "id": "29c2a156-0b29-4136-856e-45f2df9a1007",
   "metadata": {},
   "outputs": [
    {
     "name": "stdout",
     "output_type": "stream",
     "text": [
      "Model: \"model_5\"\n",
      "__________________________________________________________________________________________________\n",
      " Layer (type)                   Output Shape         Param #     Connected to                     \n",
      "==================================================================================================\n",
      " input_8 (InputLayer)           [(None, 200, 1)]     0           []                               \n",
      "                                                                                                  \n",
      " input_9 (InputLayer)           [(None, 200, 1)]     0           []                               \n",
      "                                                                                                  \n",
      " model_4 (Functional)           (None, 200, 50)      5400        ['input_8[0][0]',                \n",
      "                                                                  'input_9[0][0]']                \n",
      "                                                                                                  \n",
      " lambda_2 (Lambda)              (None, 200, 50)      0           ['model_4[0][0]',                \n",
      "                                                                  'model_4[1][0]']                \n",
      "                                                                                                  \n",
      " flatten_2 (Flatten)            (None, 10000)        0           ['lambda_2[0][0]']               \n",
      "                                                                                                  \n",
      " dense_4 (Dense)                (None, 32)           320032      ['flatten_2[0][0]']              \n",
      "                                                                                                  \n",
      " batch_normalization_2 (BatchNo  (None, 32)          128         ['dense_4[0][0]']                \n",
      " rmalization)                                                                                     \n",
      "                                                                                                  \n",
      " activation_2 (Activation)      (None, 32)           0           ['batch_normalization_2[0][0]']  \n",
      "                                                                                                  \n",
      " dropout_2 (Dropout)            (None, 32)           0           ['activation_2[0][0]']           \n",
      "                                                                                                  \n",
      " dense_5 (Dense)                (None, 1)            33          ['dropout_2[0][0]']              \n",
      "                                                                                                  \n",
      "==================================================================================================\n",
      "Total params: 325,593\n",
      "Trainable params: 325,529\n",
      "Non-trainable params: 64\n",
      "__________________________________________________________________________________________________\n"
     ]
    }
   ],
   "source": [
    "model = model_loader.load_custom_model(\"/home/jhhan/Downloads/ecg_id/model/ecg_id_model.h5\")"
   ]
  },
  {
   "cell_type": "code",
   "execution_count": null,
   "id": "81b4e6f9-d6af-4415-ac54-fb2b843b6a71",
   "metadata": {},
   "outputs": [],
   "source": []
  },
  {
   "cell_type": "code",
   "execution_count": 33,
   "id": "d9a0a666-1205-4905-bbdd-7da0f5e2645b",
   "metadata": {},
   "outputs": [
    {
     "ename": "NameError",
     "evalue": "name 'args' is not defined",
     "output_type": "error",
     "traceback": [
      "\u001b[0;31m---------------------------------------------------------------------------\u001b[0m",
      "\u001b[0;31mNameError\u001b[0m                                 Traceback (most recent call last)",
      "Cell \u001b[0;32mIn[33], line 4\u001b[0m\n\u001b[1;32m      1\u001b[0m \u001b[38;5;28;01mimport\u001b[39;00m \u001b[38;5;21;01mtensorflow\u001b[39;00m \u001b[38;5;28;01mas\u001b[39;00m \u001b[38;5;21;01mtf\u001b[39;00m\n\u001b[1;32m      2\u001b[0m \u001b[38;5;28;01mimport\u001b[39;00m \u001b[38;5;21;01mmodel_loader\u001b[39;00m\n\u001b[0;32m----> 4\u001b[0m model \u001b[38;5;241m=\u001b[39m model_loader\u001b[38;5;241m.\u001b[39mcompile_model(\u001b[43margs\u001b[49m)\n\u001b[1;32m      5\u001b[0m model\u001b[38;5;241m.\u001b[39mload_weights(\u001b[38;5;124m\"\u001b[39m\u001b[38;5;124m/home/jhhan/Downloads/ecg_id/model/ecg_id_model.h5\u001b[39m\u001b[38;5;124m\"\u001b[39m)\n",
      "\u001b[0;31mNameError\u001b[0m: name 'args' is not defined"
     ]
    }
   ],
   "source": [
    "import tensorflow as tf\n",
    "import model_loader\n",
    "\n",
    "model = model_loader.compile_model(args)\n",
    "model.load_weights(\"/home/jhhan/Downloads/ecg_id/model/ecg_id_model.h5\")"
   ]
  },
  {
   "cell_type": "code",
   "execution_count": 3,
   "id": "1c5d3e20-4824-4c20-91ae-ee99961b4458",
   "metadata": {},
   "outputs": [
    {
     "name": "stdout",
     "output_type": "stream",
     "text": [
      "Model: \"model\"\n",
      "_________________________________________________________________\n",
      " Layer (type)                Output Shape              Param #   \n",
      "=================================================================\n",
      " input_1 (InputLayer)        [(None, 200, 1)]          0         \n",
      "                                                                 \n",
      " bidirectional (Bidirectiona  (None, 200, 50)          5400      \n",
      " l)                                                              \n",
      "                                                                 \n",
      "=================================================================\n",
      "Total params: 5,400\n",
      "Trainable params: 5,400\n",
      "Non-trainable params: 0\n",
      "_________________________________________________________________\n"
     ]
    }
   ],
   "source": [
    "model.layers[2].summary()"
   ]
  },
  {
   "cell_type": "code",
   "execution_count": 25,
   "id": "c2072c7a-42fd-4d9b-aada-88b23bf077dc",
   "metadata": {},
   "outputs": [],
   "source": [
    "a = np.load(sw_data_path, allow_pickle = True)"
   ]
  },
  {
   "cell_type": "code",
   "execution_count": 29,
   "id": "fd1dd21f-9fa4-44b6-aba7-50f9f8669988",
   "metadata": {},
   "outputs": [
    {
     "name": "stdout",
     "output_type": "stream",
     "text": [
      "5 paths are found\n"
     ]
    }
   ],
   "source": [
    "sw_data_path_list = utils.path_finder(\"/home/yckim/research/ecg_id/dataset/steering_wheel/raw/\", 'npz')\n",
    "sw_dataset = []\n",
    "subject_id = []\n",
    "for sw_data_path in sw_data_path_list:\n",
    "    temp_data = np.load(sw_data_path, allow_pickle = True)['processed']\n",
    "    sw_dataset.append(temp_data)"
   ]
  },
  {
   "cell_type": "code",
   "execution_count": 177,
   "id": "c7e349f3-5a5a-4a53-9929-aa2f8aabec99",
   "metadata": {},
   "outputs": [],
   "source": [
    "# Chebyshev 대역통과 필터 설계 (0.5Hz ~ 40Hz)\n",
    "lowcut = 0.5  # 낮은 차단 주파수 (0.5Hz)\n",
    "highcut = 40  # 높은 차단 주파수 (40Hz)\n",
    "ripple = 0.5  # 통과 대역 내 허용 리플(dB)\n",
    "order = 4     # 필터 차수\n",
    "fs = 2000\n",
    "\n",
    "# Chebyshev Type I 필터 설계 (대역 통과)\n",
    "nyquist = 0.5 * fs  # 나이퀴스트 주파수\n",
    "low = lowcut / nyquist\n",
    "high = highcut / nyquist\n",
    "b, a = cheby1(order, ripple, [low, high], btype='band')"
   ]
  },
  {
   "cell_type": "code",
   "execution_count": 168,
   "id": "be75864c-39fd-4776-9150-bd8a63a16689",
   "metadata": {},
   "outputs": [],
   "source": [
    "a = np.zeros((1, 1250, 1))\n",
    "b = np.array([1,2,3,4,5]*250)\n",
    "b = np.reshape(b, (1, 1250,1))"
   ]
  },
  {
   "cell_type": "code",
   "execution_count": 19,
   "id": "44432e13-8f8e-4cd3-8c4b-1abd7a5c02e8",
   "metadata": {},
   "outputs": [
    {
     "ename": "NameError",
     "evalue": "name 'data' is not defined",
     "output_type": "error",
     "traceback": [
      "\u001b[0;31m---------------------------------------------------------------------------\u001b[0m",
      "\u001b[0;31mNameError\u001b[0m                                 Traceback (most recent call last)",
      "Cell \u001b[0;32mIn[19], line 1\u001b[0m\n\u001b[0;32m----> 1\u001b[0m plt\u001b[38;5;241m.\u001b[39mplot(\u001b[43mdata\u001b[49m)\n",
      "\u001b[0;31mNameError\u001b[0m: name 'data' is not defined"
     ]
    }
   ],
   "source": [
    "plt.plot(data)"
   ]
  },
  {
   "cell_type": "code",
   "execution_count": 184,
   "id": "0524e00a-aa73-4126-ac8b-c4e4d237c42b",
   "metadata": {
    "scrolled": true
   },
   "outputs": [
    {
     "name": "stdout",
     "output_type": "stream",
     "text": [
      "1/1 [==============================] - 0s 97ms/step\n",
      "1/1 [==============================] - 0s 19ms/step\n",
      "1/1 [==============================] - 0s 19ms/step\n",
      "1/1 [==============================] - 0s 19ms/step\n",
      "1/1 [==============================] - 0s 20ms/step\n",
      "1/1 [==============================] - 0s 23ms/step\n",
      "1/1 [==============================] - 0s 18ms/step\n",
      "1/1 [==============================] - 0s 19ms/step\n",
      "1/1 [==============================] - 0s 18ms/step\n",
      "1/1 [==============================] - 0s 17ms/step\n",
      "1/1 [==============================] - 0s 18ms/step\n",
      "1/1 [==============================] - 0s 18ms/step\n",
      "1/1 [==============================] - 0s 19ms/step\n",
      "1/1 [==============================] - 0s 19ms/step\n",
      "1/1 [==============================] - 0s 17ms/step\n",
      "1/1 [==============================] - 0s 17ms/step\n",
      "1/1 [==============================] - 0s 17ms/step\n",
      "1/1 [==============================] - 0s 17ms/step\n",
      "1/1 [==============================] - 0s 18ms/step\n",
      "1/1 [==============================] - 0s 18ms/step\n",
      "1/1 [==============================] - 0s 16ms/step\n",
      "1/1 [==============================] - 0s 15ms/step\n",
      "1/1 [==============================] - 0s 17ms/step\n",
      "1/1 [==============================] - 0s 14ms/step\n",
      "1/1 [==============================] - 0s 14ms/step\n",
      "1/1 [==============================] - 0s 14ms/step\n",
      "1/1 [==============================] - 0s 17ms/step\n",
      "1/1 [==============================] - 0s 17ms/step\n",
      "1/1 [==============================] - 0s 15ms/step\n",
      "1/1 [==============================] - 0s 15ms/step\n",
      "1/1 [==============================] - 0s 14ms/step\n",
      "1/1 [==============================] - 0s 18ms/step\n",
      "1/1 [==============================] - 0s 14ms/step\n",
      "1/1 [==============================] - 0s 14ms/step\n",
      "1/1 [==============================] - 0s 16ms/step\n",
      "1/1 [==============================] - 0s 14ms/step\n",
      "1/1 [==============================] - 0s 14ms/step\n",
      "1/1 [==============================] - 0s 16ms/step\n",
      "1/1 [==============================] - 0s 14ms/step\n",
      "1/1 [==============================] - 0s 14ms/step\n",
      "1/1 [==============================] - 0s 13ms/step\n",
      "1/1 [==============================] - 0s 13ms/step\n",
      "1/1 [==============================] - 0s 13ms/step\n",
      "1/1 [==============================] - 0s 13ms/step\n",
      "1/1 [==============================] - 0s 13ms/step\n",
      "1/1 [==============================] - 0s 13ms/step\n",
      "1/1 [==============================] - 0s 13ms/step\n",
      "1/1 [==============================] - 0s 13ms/step\n",
      "1/1 [==============================] - 0s 15ms/step\n",
      "1/1 [==============================] - 0s 14ms/step\n",
      "1/1 [==============================] - 0s 13ms/step\n",
      "1/1 [==============================] - 0s 14ms/step\n",
      "1/1 [==============================] - 0s 13ms/step\n",
      "1/1 [==============================] - 0s 14ms/step\n",
      "1/1 [==============================] - 0s 13ms/step\n",
      "1/1 [==============================] - 0s 13ms/step\n",
      "1/1 [==============================] - 0s 14ms/step\n",
      "1/1 [==============================] - 0s 13ms/step\n",
      "1/1 [==============================] - 0s 13ms/step\n",
      "1/1 [==============================] - 0s 14ms/step\n",
      "1/1 [==============================] - 0s 15ms/step\n",
      "1/1 [==============================] - 0s 16ms/step\n",
      "1/1 [==============================] - 0s 13ms/step\n",
      "1/1 [==============================] - 0s 13ms/step\n",
      "1/1 [==============================] - 0s 13ms/step\n",
      "1/1 [==============================] - 0s 14ms/step\n",
      "1/1 [==============================] - 0s 14ms/step\n",
      "1/1 [==============================] - 0s 13ms/step\n",
      "1/1 [==============================] - 0s 14ms/step\n",
      "1/1 [==============================] - 0s 14ms/step\n",
      "1/1 [==============================] - 0s 14ms/step\n",
      "1/1 [==============================] - 0s 14ms/step\n",
      "1/1 [==============================] - 0s 13ms/step\n",
      "1/1 [==============================] - 0s 15ms/step\n",
      "1/1 [==============================] - 0s 14ms/step\n",
      "1/1 [==============================] - 0s 13ms/step\n",
      "1/1 [==============================] - 0s 13ms/step\n",
      "1/1 [==============================] - 0s 13ms/step\n",
      "1/1 [==============================] - 0s 15ms/step\n",
      "1/1 [==============================] - 0s 13ms/step\n",
      "1/1 [==============================] - 0s 14ms/step\n",
      "1/1 [==============================] - 0s 13ms/step\n",
      "1/1 [==============================] - 0s 14ms/step\n",
      "1/1 [==============================] - 0s 14ms/step\n",
      "1/1 [==============================] - 0s 13ms/step\n",
      "1/1 [==============================] - 0s 13ms/step\n",
      "1/1 [==============================] - 0s 13ms/step\n",
      "1/1 [==============================] - 0s 13ms/step\n",
      "1/1 [==============================] - 0s 13ms/step\n",
      "1/1 [==============================] - 0s 13ms/step\n",
      "1/1 [==============================] - 0s 14ms/step\n",
      "1/1 [==============================] - 0s 16ms/step\n",
      "1/1 [==============================] - 0s 13ms/step\n",
      "1/1 [==============================] - 0s 14ms/step\n",
      "1/1 [==============================] - 0s 14ms/step\n",
      "1/1 [==============================] - 0s 14ms/step\n",
      "1/1 [==============================] - 0s 14ms/step\n",
      "1/1 [==============================] - 0s 16ms/step\n",
      "1/1 [==============================] - 0s 13ms/step\n",
      "1/1 [==============================] - 0s 13ms/step\n",
      "1/1 [==============================] - 0s 13ms/step\n",
      "1/1 [==============================] - 0s 14ms/step\n",
      "1/1 [==============================] - 0s 15ms/step\n",
      "1/1 [==============================] - 0s 14ms/step\n",
      "1/1 [==============================] - 0s 14ms/step\n",
      "1/1 [==============================] - 0s 14ms/step\n",
      "1/1 [==============================] - 0s 14ms/step\n",
      "1/1 [==============================] - 0s 14ms/step\n",
      "1/1 [==============================] - 0s 13ms/step\n",
      "1/1 [==============================] - 0s 13ms/step\n",
      "1/1 [==============================] - 0s 14ms/step\n",
      "1/1 [==============================] - 0s 13ms/step\n",
      "1/1 [==============================] - 0s 13ms/step\n",
      "1/1 [==============================] - 0s 13ms/step\n",
      "1/1 [==============================] - 0s 13ms/step\n",
      "1/1 [==============================] - 0s 15ms/step\n",
      "1/1 [==============================] - 0s 15ms/step\n",
      "1/1 [==============================] - 0s 14ms/step\n",
      "1/1 [==============================] - 0s 14ms/step\n",
      "1/1 [==============================] - 0s 13ms/step\n",
      "1/1 [==============================] - 0s 13ms/step\n",
      "1/1 [==============================] - 0s 13ms/step\n",
      "1/1 [==============================] - 0s 16ms/step\n",
      "1/1 [==============================] - 0s 13ms/step\n",
      "1/1 [==============================] - 0s 14ms/step\n",
      "1/1 [==============================] - 0s 13ms/step\n",
      "1/1 [==============================] - 0s 14ms/step\n",
      "1/1 [==============================] - 0s 19ms/step\n",
      "1/1 [==============================] - 0s 13ms/step\n",
      "1/1 [==============================] - 0s 14ms/step\n",
      "1/1 [==============================] - 0s 13ms/step\n",
      "1/1 [==============================] - 0s 13ms/step\n",
      "1/1 [==============================] - 0s 13ms/step\n",
      "1/1 [==============================] - 0s 13ms/step\n",
      "1/1 [==============================] - 0s 15ms/step\n",
      "1/1 [==============================] - 0s 14ms/step\n",
      "1/1 [==============================] - 0s 15ms/step\n",
      "1/1 [==============================] - 0s 13ms/step\n",
      "1/1 [==============================] - 0s 16ms/step\n",
      "1/1 [==============================] - 0s 15ms/step\n",
      "1/1 [==============================] - 0s 15ms/step\n",
      "1/1 [==============================] - 0s 14ms/step\n",
      "1/1 [==============================] - 0s 15ms/step\n",
      "1/1 [==============================] - 0s 13ms/step\n",
      "1/1 [==============================] - 0s 15ms/step\n",
      "1/1 [==============================] - 0s 14ms/step\n",
      "1/1 [==============================] - 0s 13ms/step\n"
     ]
    },
    {
     "ename": "ValueError",
     "evalue": "cannot reshape array of size 231 into shape (1,1250,1)",
     "output_type": "error",
     "traceback": [
      "\u001b[0;31m---------------------------------------------------------------------------\u001b[0m",
      "\u001b[0;31mValueError\u001b[0m                                Traceback (most recent call last)",
      "Cell \u001b[0;32mIn[184], line 32\u001b[0m\n\u001b[1;32m     30\u001b[0m     \u001b[38;5;28;01mcontinue\u001b[39;00m\n\u001b[1;32m     31\u001b[0m temp_frame \u001b[38;5;241m=\u001b[39m normalized_ecg_sig[i:i\u001b[38;5;241m+\u001b[39m\u001b[38;5;241m1250\u001b[39m]\n\u001b[0;32m---> 32\u001b[0m temp_frame \u001b[38;5;241m=\u001b[39m \u001b[43mnp\u001b[49m\u001b[38;5;241;43m.\u001b[39;49m\u001b[43mreshape\u001b[49m\u001b[43m(\u001b[49m\u001b[43mtemp_frame\u001b[49m\u001b[43m,\u001b[49m\u001b[43m \u001b[49m\u001b[43m(\u001b[49m\u001b[38;5;241;43m1\u001b[39;49m\u001b[43m,\u001b[49m\u001b[43m \u001b[49m\u001b[38;5;241;43m1250\u001b[39;49m\u001b[43m,\u001b[49m\u001b[43m \u001b[49m\u001b[38;5;241;43m1\u001b[39;49m\u001b[43m)\u001b[49m\u001b[43m)\u001b[49m\n\u001b[1;32m     33\u001b[0m sqa \u001b[38;5;241m=\u001b[39m ecg_sqa_model\u001b[38;5;241m.\u001b[39mpredict(temp_frame)\n\u001b[1;32m     34\u001b[0m \u001b[38;5;28;01mif\u001b[39;00m sqa[\u001b[38;5;241m0\u001b[39m, \u001b[38;5;241m0\u001b[39m] \u001b[38;5;241m<\u001b[39m \u001b[38;5;241m0.5\u001b[39m:\n",
      "File \u001b[0;32m<__array_function__ internals>:180\u001b[0m, in \u001b[0;36mreshape\u001b[0;34m(*args, **kwargs)\u001b[0m\n",
      "File \u001b[0;32m~/anaconda3/envs/ml2310/lib/python3.11/site-packages/numpy/core/fromnumeric.py:298\u001b[0m, in \u001b[0;36mreshape\u001b[0;34m(a, newshape, order)\u001b[0m\n\u001b[1;32m    198\u001b[0m \u001b[38;5;129m@array_function_dispatch\u001b[39m(_reshape_dispatcher)\n\u001b[1;32m    199\u001b[0m \u001b[38;5;28;01mdef\u001b[39;00m \u001b[38;5;21mreshape\u001b[39m(a, newshape, order\u001b[38;5;241m=\u001b[39m\u001b[38;5;124m'\u001b[39m\u001b[38;5;124mC\u001b[39m\u001b[38;5;124m'\u001b[39m):\n\u001b[1;32m    200\u001b[0m \u001b[38;5;250m    \u001b[39m\u001b[38;5;124;03m\"\"\"\u001b[39;00m\n\u001b[1;32m    201\u001b[0m \u001b[38;5;124;03m    Gives a new shape to an array without changing its data.\u001b[39;00m\n\u001b[1;32m    202\u001b[0m \n\u001b[0;32m   (...)\u001b[0m\n\u001b[1;32m    296\u001b[0m \u001b[38;5;124;03m           [5, 6]])\u001b[39;00m\n\u001b[1;32m    297\u001b[0m \u001b[38;5;124;03m    \"\"\"\u001b[39;00m\n\u001b[0;32m--> 298\u001b[0m     \u001b[38;5;28;01mreturn\u001b[39;00m \u001b[43m_wrapfunc\u001b[49m\u001b[43m(\u001b[49m\u001b[43ma\u001b[49m\u001b[43m,\u001b[49m\u001b[43m \u001b[49m\u001b[38;5;124;43m'\u001b[39;49m\u001b[38;5;124;43mreshape\u001b[39;49m\u001b[38;5;124;43m'\u001b[39;49m\u001b[43m,\u001b[49m\u001b[43m \u001b[49m\u001b[43mnewshape\u001b[49m\u001b[43m,\u001b[49m\u001b[43m \u001b[49m\u001b[43morder\u001b[49m\u001b[38;5;241;43m=\u001b[39;49m\u001b[43morder\u001b[49m\u001b[43m)\u001b[49m\n",
      "File \u001b[0;32m~/anaconda3/envs/ml2310/lib/python3.11/site-packages/numpy/core/fromnumeric.py:57\u001b[0m, in \u001b[0;36m_wrapfunc\u001b[0;34m(obj, method, *args, **kwds)\u001b[0m\n\u001b[1;32m     54\u001b[0m     \u001b[38;5;28;01mreturn\u001b[39;00m _wrapit(obj, method, \u001b[38;5;241m*\u001b[39margs, \u001b[38;5;241m*\u001b[39m\u001b[38;5;241m*\u001b[39mkwds)\n\u001b[1;32m     56\u001b[0m \u001b[38;5;28;01mtry\u001b[39;00m:\n\u001b[0;32m---> 57\u001b[0m     \u001b[38;5;28;01mreturn\u001b[39;00m \u001b[43mbound\u001b[49m\u001b[43m(\u001b[49m\u001b[38;5;241;43m*\u001b[39;49m\u001b[43margs\u001b[49m\u001b[43m,\u001b[49m\u001b[43m \u001b[49m\u001b[38;5;241;43m*\u001b[39;49m\u001b[38;5;241;43m*\u001b[39;49m\u001b[43mkwds\u001b[49m\u001b[43m)\u001b[49m\n\u001b[1;32m     58\u001b[0m \u001b[38;5;28;01mexcept\u001b[39;00m \u001b[38;5;167;01mTypeError\u001b[39;00m:\n\u001b[1;32m     59\u001b[0m     \u001b[38;5;66;03m# A TypeError occurs if the object does have such a method in its\u001b[39;00m\n\u001b[1;32m     60\u001b[0m     \u001b[38;5;66;03m# class, but its signature is not identical to that of NumPy's. This\u001b[39;00m\n\u001b[0;32m   (...)\u001b[0m\n\u001b[1;32m     64\u001b[0m     \u001b[38;5;66;03m# Call _wrapit from within the except clause to ensure a potential\u001b[39;00m\n\u001b[1;32m     65\u001b[0m     \u001b[38;5;66;03m# exception has a traceback chain.\u001b[39;00m\n\u001b[1;32m     66\u001b[0m     \u001b[38;5;28;01mreturn\u001b[39;00m _wrapit(obj, method, \u001b[38;5;241m*\u001b[39margs, \u001b[38;5;241m*\u001b[39m\u001b[38;5;241m*\u001b[39mkwds)\n",
      "\u001b[0;31mValueError\u001b[0m: cannot reshape array of size 231 into shape (1,1250,1)"
     ]
    }
   ],
   "source": [
    "# Preprocessing\n",
    "# sliding window 방식을 이용해서 SQA 모델의 0을 받을 때까지 sliding\n",
    "# 0되면 1250개 데이터 건너 뛰기\n",
    "\n",
    "raw_ecg_sig = sw_dataset[0]\n",
    "\n",
    "# 0. Filter 적용\n",
    "filtered_sig = filtfilt(b, a, raw_ecg_sig)\n",
    "\n",
    "# 0. Resmampling to 250Hz\n",
    "fs_new = 250\n",
    "fs_original = 2000\n",
    "resamp_ecg_sig = np.reshape(resample(filtered_sig, int(len(filtered_sig) * fs_new / fs_original)), (-1, 1))\n",
    "\n",
    "# 1. Min_Max normalization\n",
    "scaler = MinMaxScaler(feature_range=(-1, 1))\n",
    "normalized_ecg_sig = scaler.fit_transform(resamp_ecg_sig)\n",
    "\n",
    "# 2. 5sec frame 당 SQA 적용\n",
    "ecg_sqa_model_path = \"/home/yckim/research/ecg_id/model/ecg_sqa/ecg_sqa.h5\"\n",
    "ecg_sqa_model = tf.keras.models.load_model(ecg_sqa_model_path)\n",
    "norm_sig_list = []\n",
    "corrupted_sig_list = []\n",
    "predict_result = []\n",
    "flg = True\n",
    "i = 0\n",
    "while flg:\n",
    "    if filtered_sig.shape[0] - i < 1250:\n",
    "        flg = False\n",
    "        continue\n",
    "    temp_frame = normalized_ecg_sig[i:i+1250]\n",
    "    temp_frame = np.reshape(temp_frame, (1, 1250, 1))\n",
    "    sqa = ecg_sqa_model.predict(temp_frame)\n",
    "    if sqa[0, 0] < 0.5:\n",
    "        norm_sig_list.append(temp_frame)\n",
    "        predict_result.append(sqa[0,0])\n",
    "        i += 1250\n",
    "    else:\n",
    "        corrupted_sig_list.append(temp_frame)\n",
    "        i += 100\n",
    "\n",
    "# plt.figure(figsize = (20,10))\n",
    "# plt.plot(filtered_sig[:4000], c='k')\n",
    "# plt.plot(sw_dataset[0][:4000])\n",
    "# plt.show()"
   ]
  },
  {
   "cell_type": "code",
   "execution_count": 67,
   "id": "a76a94c4-5ade-4f47-b024-bae859d04db0",
   "metadata": {
    "jupyter": {
     "source_hidden": true
    }
   },
   "outputs": [
    {
     "name": "stdout",
     "output_type": "stream",
     "text": [
      "5 paths are found\n"
     ]
    }
   ],
   "source": [
    "def design_chebyshev_bandpass(lowcut, highcut, ripple, order, fs):\n",
    "    nyquist = 0.5 * fs\n",
    "    low = lowcut / nyquist\n",
    "    high = highcut / nyquist\n",
    "    b, a = cheby1(order, ripple, [low, high], btype='band')\n",
    "    return b, a\n",
    "\n",
    "\n",
    "def apply_bandpass_filter(signal, b, a):\n",
    "    return filtfilt(b, a, signal)\n",
    "\n",
    "def resample_signal(signal, fs_original, fs_new):\n",
    "    return resample(signal, int(len(signal) * fs_new / fs_original))\n",
    "\n",
    "\n",
    "\n",
    "def load_sqa_model(model_path):\n",
    "    return tf.keras.models.load_model(model_path)\n",
    "\n",
    "def apply_sqa_model(signal, model, frame_length=1250, step_size=100, threshold=0.5):\n",
    "    norm_sig_list = []\n",
    "    corrupted_sig_list = []\n",
    "    predict_result = []\n",
    "\n",
    "    i = 0\n",
    "    while i + frame_length <= len(signal):\n",
    "        temp_frame = signal[i:i+frame_length]\n",
    "        temp_frame = np.reshape(temp_frame, (1, frame_length, 1))\n",
    "        sqa = model.predict(temp_frame)\n",
    "\n",
    "        if sqa[0, 0] < threshold:\n",
    "            norm_sig_list.append(temp_frame)\n",
    "            predict_result.append(sqa[0, 0])\n",
    "            i += frame_length\n",
    "        else:\n",
    "            corrupted_sig_list.append(temp_frame)\n",
    "            i += step_size\n",
    "\n",
    "    return norm_sig_list, corrupted_sig_list, predict_result\n",
    "\n",
    "\n",
    "def apply_sqa(signal, frame_length=1250, step_size=100):\n",
    "    norm_sig_list = []\n",
    "    corrupted_sig_list = []\n",
    "    predict_result = []\n",
    "\n",
    "    i = 0\n",
    "    while (i + frame_length) <= len(signal):\n",
    "        temp_frame = signal[i:i+frame_length]\n",
    "        sqi = nk.ecg_quality(temp_frame, sampling_rate=250, method='zhao2018')\n",
    "        if sqi != \"Unacceptable\":\n",
    "            norm_sig_list.append(temp_frame)\n",
    "            i += frame_length\n",
    "        else:\n",
    "            corrupted_sig_list.append(temp_frame)\n",
    "            i += step_size\n",
    "\n",
    "    return norm_sig_list, corrupted_sig_list, predict_result\n",
    "\n",
    "def frame_cutter(norm_sig_list):\n",
    "    \"\"\"\n",
    "    Frame Cutting according to ECG signal\n",
    "    \"\"\"\n",
    "    pulses_per_frame = 1\n",
    "    ecg_frame = []\n",
    "    for norm_sig in norm_sig_list:\n",
    "        raw_ecg_norm_5s = np.reshape(norm_sig, (-1,))\n",
    "        try:\n",
    "            temp_ecg_seg = raw_ecg_norm_5s\n",
    "            r_peaks_indx = nk.ecg_peaks(temp_ecg_seg, sampling_rate=250)[1][\"ECG_R_Peaks\"]\n",
    "            for i in range(0, len(r_peaks_indx)-pulses_per_frame, pulses_per_frame):\n",
    "                r_peaks = r_peaks_indx[i:i+1+pulses_per_frame]\n",
    "    \n",
    "                    # 두 연속된 값의 차이가 60 ~ 300 사이에 있는지 확인\n",
    "                if any(300 < (r_peaks[j+1] - r_peaks[j]) or (r_peaks[j+1] - r_peaks[j]) < 60 for j in range(pulses_per_frame)):\n",
    "                    continue\n",
    "                else:\n",
    "                    temp_ecg_frame = temp_ecg_seg[r_peaks_indx[i]:r_peaks_indx[i+pulses_per_frame]+1]\n",
    "                    ecg_resampled_frame = resample(temp_ecg_frame, 200*pulses_per_frame)\n",
    "                    normalized_ecg_frame = normalize_signal(ecg_resampled_frame)\n",
    "                    ecg_frame.append(normalized_ecg_frame)\n",
    "        except Exception as e:\n",
    "            continue\n",
    "    return ecg_frame\n",
    "\n",
    "def process_ecg_signal(raw_ecg_sig, fs_original, fs_new, lowcut, highcut, ripple, order, sqa_model_path):\n",
    "    # Step 1: Resample signal\n",
    "    resampled_sig = resample_signal(raw_ecg_sig, fs_original, fs_new)\n",
    "    \n",
    "    # Step 2: Design Chebyshev bandpass filter\n",
    "    b, a = design_chebyshev_bandpass(lowcut, highcut, ripple, order, fs_new)\n",
    "    \n",
    "    # Step 3: Apply filter\n",
    "    filtered_sig = apply_bandpass_filter(resampled_sig, b, a)\n",
    "    \n",
    "    # Step 4: Normalize signal\n",
    "    normalized_sig = normalize_signal(filtered_sig)\n",
    "    \n",
    "    # Step 5: Load SQA model and apply to signal\n",
    "    sqa_model = load_sqa_model(sqa_model_path)\n",
    "    # norm_sig_list, corrupted_sig_list, predict_result = apply_sqa_model(normalized_sig, sqa_model)\n",
    "    norm_sig_list, corrupted_sig_list, predict_result = apply_sqa(normalized_sig)\n",
    "\n",
    "    # Step 6: Cut sigs into wanted frame\n",
    "    ecg_frame = frame_cutter(norm_sig_list)\n",
    "    \n",
    "    return norm_sig_list, corrupted_sig_list, predict_result, ecg_frame\n",
    "\n",
    "def save_data(data_path, final_ecg_sigs_list, base_save_dir):\n",
    "    subject_id = data_path.split('/')[-2]\n",
    "    file_name = f\"{subject_id}.npz\"\n",
    "    ecg_sigs_array = np.array(final_ecg_sigs_list)\n",
    "    save_path = os.path.join(base_save_dir, subject_id, file_name)\n",
    "    utils.make_save_dir(os.path.split(save_path)[0])\n",
    "    np.savez(save_path, data = ecg_sigs_array)\n",
    "    \n",
    "data_path_list = utils.path_finder(\"/home/yckim/research/ecg_id/dataset/steering_wheel/raw\", \".npz\")\n",
    "# Example usage\n",
    "lowcut = 0.8  # 낮은 차단 주파수 (0.5Hz)\n",
    "highcut = 40  # 높은 차단 주파수 (40Hz)\n",
    "ripple = 0.5  # 통과 대역 내 허용 리플(dB)\n",
    "order = 4     # 필터 차수\n",
    "fs = 250\n",
    "fs_original = 2000\n",
    "for data_path in data_path_list:\n",
    "    sqa_model_path = \"/home/yckim/research/ecg_id/model/ecg_sqa/ecg_sqa.h5\"\n",
    "    # Process the raw ECG signal\n",
    "    dataset = np.load(data_path, allow_pickle=True)\n",
    "    raw_ecg_sig = dataset[\"processed\"]\n",
    "    norm_sig_list, corrupted_sig_list, predict_result, ecg_frame = process_ecg_signal(\n",
    "        raw_ecg_sig, fs_original, fs, lowcut, highcut, ripple, order, sqa_model_path\n",
    "    )\n",
    "    \n",
    "    save_dir = '/home/yckim/research/ecg_id/dataset/steering_wheel/processed_1'\n",
    "    save_data(data_path, ecg_frame, save_dir)"
   ]
  },
  {
   "cell_type": "markdown",
   "id": "9499394b-a0ff-46f3-899c-9f7b88e0f18c",
   "metadata": {},
   "source": [
    "# Model Test on Other Datasets"
   ]
  },
  {
   "cell_type": "code",
   "execution_count": 37,
   "id": "47706edb-7f45-406b-93b6-df07fb8ad7e3",
   "metadata": {},
   "outputs": [],
   "source": [
    "import train\n",
    "import prep_test_dataset\n",
    "import prepdataset\n",
    "import tensorflow as tf\n",
    "import utils\n",
    "\n",
    "def prediction_on_built_model(data_path_list, min_data_cnt=50):\n",
    "    dataset_dict = prep_test_dataset.prep_dataset(dataset_path_list=data_path_list, min_data_cnt = min_data_cnt)\n",
    "    model = tf.keras.models.load_model(\"/home/yckim/research/ecg_id/result/08-09_06_48/ecg_id_model.h5\")\n",
    "    score_df, result_df, cm = train.result_cal(model, dataset_dict)\n",
    "    return score_df, result_df, cm"
   ]
  },
  {
   "cell_type": "markdown",
   "id": "f5644c57-ab0a-401c-bcda-a97d8983b150",
   "metadata": {},
   "source": [
    "# Icentia dataset"
   ]
  },
  {
   "cell_type": "code",
   "execution_count": 15,
   "id": "d1ab1438-8d66-410d-a5f8-48d31ebb2123",
   "metadata": {
    "collapsed": true,
    "jupyter": {
     "outputs_hidden": true
    }
   },
   "outputs": [
    {
     "name": "stdout",
     "output_type": "stream",
     "text": [
      "10241 paths are found\n",
      "Ratio of Train, Validation, Test is not set. This will be set as default, 7:2:1\n",
      "Divided into train: 6992, val: 1997, test: 1000\n"
     ]
    },
    {
     "name": "stderr",
     "output_type": "stream",
     "text": [
      "Loading train dataset: 100%|█████████████████████████████████████████████████████████████████████████████████████████████████████████| 6992/6992 [00:01<00:00, 3576.84it/s]\n"
     ]
    },
    {
     "name": "stdout",
     "output_type": "stream",
     "text": [
      "Built train dataset with 419520 samples\n",
      "(419520, 2, 200)\n"
     ]
    },
    {
     "name": "stderr",
     "output_type": "stream",
     "text": [
      "Loading validation dataset: 100%|███████████████████████████████████████████████████████████████████████████████████████████████████| 1997/1997 [00:00<00:00, 12943.92it/s]\n"
     ]
    },
    {
     "name": "stdout",
     "output_type": "stream",
     "text": [
      "Built validation dataset with 119820 samples\n",
      "(119820, 2, 200)\n"
     ]
    },
    {
     "name": "stderr",
     "output_type": "stream",
     "text": [
      "Loading test dataset: 100%|█████████████████████████████████████████████████████████████████████████████████████████████████████████| 1000/1000 [00:00<00:00, 16169.13it/s]\n"
     ]
    },
    {
     "name": "stdout",
     "output_type": "stream",
     "text": [
      "Built test dataset with 60000 samples\n",
      "(60000, 2, 200)\n",
      "Train data size: 419520\n",
      "Validation data size: 119820\n",
      "Test data size: 60000\n"
     ]
    },
    {
     "name": "stderr",
     "output_type": "stream",
     "text": [
      "/home/yckim/anaconda3/envs/ml2310/lib/python3.11/site-packages/keras/src/layers/core/lambda_layer.py:327: UserWarning: prepmodel is not loaded, but a Lambda layer uses it. It may cause errors.\n",
      "  function = cls._parse_function_from_config(\n"
     ]
    },
    {
     "name": "stdout",
     "output_type": "stream",
     "text": [
      "1875/1875 [==============================] - 18s 9ms/step\n",
      "Accuracy: 0.81\n",
      "Precision: 0.80\n",
      "Recall: 0.83\n",
      "F1 Score: 0.81\n",
      "ROC-AUC Score: 0.89\n",
      "Confusion Matrix:\n",
      "[[23608  6392]\n",
      " [ 5203 24797]]\n",
      "(60000,) (60000, 1) (60000, 1)\n"
     ]
    }
   ],
   "source": [
    "data_path_list = utils.path_finder(\"/home/yckim/research/ecg_id/dataset/icentia/processed_1\", '.npz')\n",
    "dataset_dict = prepdataset.prep_dataset(dataset_path_list=data_path_list, min_data_cnt = 50)\n",
    "model = tf.keras.models.load_model(\"/home/yckim/research/ecg_id/result/08-09_06_48/ecg_id_model.h5\")\n",
    "score_df, result_df, cm = train.result_cal(model, dataset_dict)"
   ]
  },
  {
   "cell_type": "markdown",
   "id": "71864555-bbc7-4b0d-8254-22ba8f8baf85",
   "metadata": {},
   "source": [
    "## PTB dataset"
   ]
  },
  {
   "cell_type": "code",
   "execution_count": 25,
   "id": "2cb54584-0102-4260-8d58-dc7c934dcc5f",
   "metadata": {},
   "outputs": [
    {
     "name": "stdout",
     "output_type": "stream",
     "text": [
      "52 paths are found\n",
      "test: 49\n"
     ]
    },
    {
     "name": "stderr",
     "output_type": "stream",
     "text": [
      "Loading test dataset: 100%|██████████████████████████████████████████████████████████████████████████████████████████████████████████████| 49/49 [00:00<00:00, 6308.39it/s]"
     ]
    },
    {
     "name": "stdout",
     "output_type": "stream",
     "text": [
      "Built test dataset with 2940 samples\n",
      "Test data size: 2940\n"
     ]
    },
    {
     "name": "stderr",
     "output_type": "stream",
     "text": [
      "\n",
      "/home/yckim/anaconda3/envs/ml2310/lib/python3.11/site-packages/keras/src/layers/core/lambda_layer.py:327: UserWarning: prepmodel_bi_lstm is not loaded, but a Lambda layer uses it. It may cause errors.\n",
      "  function = cls._parse_function_from_config(\n"
     ]
    },
    {
     "name": "stdout",
     "output_type": "stream",
     "text": [
      "92/92 [==============================] - 1s 7ms/step\n",
      "Accuracy: 0.98\n",
      "Precision: 0.99\n",
      "Recall: 0.97\n",
      "F1 Score: 0.98\n",
      "ROC-AUC Score: 1.00\n",
      "Confusion Matrix:\n",
      "[[1455   15]\n",
      " [  37 1433]]\n",
      "(2940,) (2940, 1) (2940, 1)\n"
     ]
    }
   ],
   "source": [
    "data_path_list = utils.path_finder(\"/home/yckim/research/ecg_id/dataset/PTB/processed_1\", '.npz')\n",
    "ptb_score_df, ptb_result_df, ptb_cm = prediction_on_built_model(data_path_list)"
   ]
  },
  {
   "cell_type": "markdown",
   "id": "c98f02e0-908a-423c-bc8c-95f5bb785cc7",
   "metadata": {},
   "source": [
    "## Steering Wheel dataset"
   ]
  },
  {
   "cell_type": "code",
   "execution_count": 38,
   "id": "d5073c56-bfff-4a4a-a543-50e52bab41e8",
   "metadata": {},
   "outputs": [
    {
     "name": "stdout",
     "output_type": "stream",
     "text": [
      "5 paths are found\n",
      "test: 5\n"
     ]
    },
    {
     "name": "stderr",
     "output_type": "stream",
     "text": [
      "Loading test dataset: 100%|████████████████████████████████████████████████████████████████████████████████████████████████████████████████| 5/5 [00:00<00:00, 6267.64it/s]"
     ]
    },
    {
     "name": "stdout",
     "output_type": "stream",
     "text": [
      "Built test dataset with 300 samples\n",
      "Test data size: 300\n"
     ]
    },
    {
     "name": "stderr",
     "output_type": "stream",
     "text": [
      "\n"
     ]
    },
    {
     "name": "stdout",
     "output_type": "stream",
     "text": [
      "10/10 [==============================] - 1s 7ms/step\n",
      "Accuracy: 0.92\n",
      "Precision: 0.93\n",
      "Recall: 0.92\n",
      "F1 Score: 0.92\n",
      "ROC-AUC Score: 0.97\n",
      "Confusion Matrix:\n",
      "[[139  11]\n",
      " [ 12 138]]\n",
      "(300,) (300, 1) (300, 1)\n"
     ]
    }
   ],
   "source": [
    "data_path_list = utils.path_finder(\"/home/yckim/research/ecg_id/dataset/sw/processed_1\", '.npz')\n",
    "sw_score_df, sw_result_df, sw_cm = prediction_on_built_model(data_path_list)"
   ]
  },
  {
   "cell_type": "markdown",
   "id": "6268face-df46-4729-974a-3ef8b43d0f0d",
   "metadata": {},
   "source": [
    "## Seat dataset"
   ]
  },
  {
   "cell_type": "code",
   "execution_count": 50,
   "id": "e06d6281-52ce-43e0-ac34-1c9e963ee069",
   "metadata": {},
   "outputs": [
    {
     "name": "stdout",
     "output_type": "stream",
     "text": [
      "11 paths are found\n",
      "test: 11\n"
     ]
    },
    {
     "name": "stderr",
     "output_type": "stream",
     "text": [
      "Loading test dataset: 100%|████████████████████████████████████████████████████████████████████████████████████████████████████████████████████| 11/11 [00:00<00:00, 7089.33it/s]"
     ]
    },
    {
     "name": "stdout",
     "output_type": "stream",
     "text": [
      "Built test dataset with 660 samples\n",
      "Test data size: 660\n"
     ]
    },
    {
     "name": "stderr",
     "output_type": "stream",
     "text": [
      "\n"
     ]
    },
    {
     "name": "stdout",
     "output_type": "stream",
     "text": [
      "21/21 [==============================] - 1s 6ms/step\n",
      "Accuracy: 0.96\n",
      "Precision: 0.95\n",
      "Recall: 0.98\n",
      "F1 Score: 0.96\n",
      "ROC-AUC Score: 0.98\n",
      "Confusion Matrix:\n",
      "[[312  18]\n",
      " [  6 324]]\n",
      "(660,) (660, 1) (660, 1)\n"
     ]
    }
   ],
   "source": [
    "data_path_list = utils.path_finder(\"/home/yckim/research/ecg_id/dataset/sm/processed_1\", \".npz\")\n",
    "sm_score_df, sm_result_df, sm_cm = prediction_on_built_model(data_path_list)"
   ]
  },
  {
   "cell_type": "code",
   "execution_count": 51,
   "id": "0b916c9d-8f4b-487d-9f5e-ec78c69cc6ba",
   "metadata": {},
   "outputs": [
    {
     "data": {
      "text/html": [
       "<div>\n",
       "<style scoped>\n",
       "    .dataframe tbody tr th:only-of-type {\n",
       "        vertical-align: middle;\n",
       "    }\n",
       "\n",
       "    .dataframe tbody tr th {\n",
       "        vertical-align: top;\n",
       "    }\n",
       "\n",
       "    .dataframe thead th {\n",
       "        text-align: right;\n",
       "    }\n",
       "</style>\n",
       "<table border=\"1\" class=\"dataframe\">\n",
       "  <thead>\n",
       "    <tr style=\"text-align: right;\">\n",
       "      <th></th>\n",
       "      <th>Sensitivity (Recall)</th>\n",
       "      <th>Accuracy</th>\n",
       "      <th>Precision</th>\n",
       "      <th>F1 Score</th>\n",
       "      <th>AUROC</th>\n",
       "    </tr>\n",
       "  </thead>\n",
       "  <tbody>\n",
       "    <tr>\n",
       "      <th>0</th>\n",
       "      <td>0.981818</td>\n",
       "      <td>0.963636</td>\n",
       "      <td>0.947368</td>\n",
       "      <td>0.964286</td>\n",
       "      <td>0.981974</td>\n",
       "    </tr>\n",
       "  </tbody>\n",
       "</table>\n",
       "</div>"
      ],
      "text/plain": [
       "   Sensitivity (Recall)  Accuracy  Precision  F1 Score     AUROC\n",
       "0              0.981818  0.963636   0.947368  0.964286  0.981974"
      ]
     },
     "execution_count": 51,
     "metadata": {},
     "output_type": "execute_result"
    }
   ],
   "source": [
    "sm_score_df"
   ]
  },
  {
   "cell_type": "markdown",
   "id": "0feb58b2-983b-46b7-b6c2-8187bf2bc354",
   "metadata": {},
   "source": [
    "## Seat reference dataset"
   ]
  },
  {
   "cell_type": "code",
   "execution_count": 52,
   "id": "7d0bb5a0-b54f-416b-abae-fea79e8d64ba",
   "metadata": {},
   "outputs": [
    {
     "name": "stdout",
     "output_type": "stream",
     "text": [
      "11 paths are found\n",
      "test: 11\n"
     ]
    },
    {
     "name": "stderr",
     "output_type": "stream",
     "text": [
      "Loading test dataset: 100%|████████████████████████████████████████████████████████████████████████████████████████████████████████████████████| 11/11 [00:00<00:00, 8509.29it/s]"
     ]
    },
    {
     "name": "stdout",
     "output_type": "stream",
     "text": [
      "Built test dataset with 660 samples\n",
      "Test data size: 660\n"
     ]
    },
    {
     "name": "stderr",
     "output_type": "stream",
     "text": [
      "\n"
     ]
    },
    {
     "name": "stdout",
     "output_type": "stream",
     "text": [
      "21/21 [==============================] - 1s 6ms/step\n",
      "Accuracy: 0.97\n",
      "Precision: 0.97\n",
      "Recall: 0.97\n",
      "F1 Score: 0.97\n",
      "ROC-AUC Score: 0.99\n",
      "Confusion Matrix:\n",
      "[[321   9]\n",
      " [ 10 320]]\n",
      "(660,) (660, 1) (660, 1)\n"
     ]
    }
   ],
   "source": [
    "data_path_list = utils.path_finder(\"/home/yckim/research/ecg_id/dataset/sm/processed_1_reference\", \".npz\")\n",
    "smr_score_df, smr_result_df, smr_cm = prediction_on_built_model(data_path_list)"
   ]
  },
  {
   "cell_type": "code",
   "execution_count": 53,
   "id": "b5cb7f30-cd96-476b-a2fc-89b51ecf5153",
   "metadata": {},
   "outputs": [
    {
     "data": {
      "text/html": [
       "<div>\n",
       "<style scoped>\n",
       "    .dataframe tbody tr th:only-of-type {\n",
       "        vertical-align: middle;\n",
       "    }\n",
       "\n",
       "    .dataframe tbody tr th {\n",
       "        vertical-align: top;\n",
       "    }\n",
       "\n",
       "    .dataframe thead th {\n",
       "        text-align: right;\n",
       "    }\n",
       "</style>\n",
       "<table border=\"1\" class=\"dataframe\">\n",
       "  <thead>\n",
       "    <tr style=\"text-align: right;\">\n",
       "      <th></th>\n",
       "      <th>Sensitivity (Recall)</th>\n",
       "      <th>Accuracy</th>\n",
       "      <th>Precision</th>\n",
       "      <th>F1 Score</th>\n",
       "      <th>AUROC</th>\n",
       "    </tr>\n",
       "  </thead>\n",
       "  <tbody>\n",
       "    <tr>\n",
       "      <th>0</th>\n",
       "      <td>0.969697</td>\n",
       "      <td>0.971212</td>\n",
       "      <td>0.972644</td>\n",
       "      <td>0.971168</td>\n",
       "      <td>0.985583</td>\n",
       "    </tr>\n",
       "  </tbody>\n",
       "</table>\n",
       "</div>"
      ],
      "text/plain": [
       "   Sensitivity (Recall)  Accuracy  Precision  F1 Score     AUROC\n",
       "0              0.969697  0.971212   0.972644  0.971168  0.985583"
      ]
     },
     "execution_count": 53,
     "metadata": {},
     "output_type": "execute_result"
    }
   ],
   "source": [
    "smr_score_df"
   ]
  },
  {
   "cell_type": "code",
   "execution_count": 78,
   "id": "f5bc37a5-f25d-4294-b3b8-7ab433951a09",
   "metadata": {},
   "outputs": [],
   "source": [
    "cm_array[0][0] = 28110"
   ]
  },
  {
   "cell_type": "code",
   "execution_count": 79,
   "id": "9795b8d8-0879-4307-9818-a58fdb65d6a4",
   "metadata": {},
   "outputs": [],
   "source": [
    "cm_array[1][1] = 29211"
   ]
  },
  {
   "cell_type": "code",
   "execution_count": 77,
   "id": "6b6fd62a-430e-4567-84bd-2727c8779a41",
   "metadata": {},
   "outputs": [],
   "source": [
    "cm_array[1][0] = 798"
   ]
  },
  {
   "cell_type": "code",
   "execution_count": 80,
   "id": "faa5706d-3178-45bd-9fe6-1c7c7de6021f",
   "metadata": {},
   "outputs": [],
   "source": [
    "cm_array[0][1] = 789"
   ]
  },
  {
   "cell_type": "code",
   "execution_count": 83,
   "id": "349f5569-1189-466d-90fd-556428b827a7",
   "metadata": {},
   "outputs": [],
   "source": [
    "import pandas as pd\n",
    "cm_array = sm_cm\n",
    "df = pd.DataFrame(cm_array, index = ['Not-Matched', 'Matched'], columns = ['Not-Matched', 'Matched'])"
   ]
  },
  {
   "cell_type": "code",
   "execution_count": 85,
   "id": "a05306f2-c0f2-484a-bb11-a63761371d0d",
   "metadata": {},
   "outputs": [
    {
     "data": {
      "image/png": "[encoded data removed]",
      "text/plain": [
       "<Figure size 300x300 with 1 Axes>"
      ]
     },
     "metadata": {},
     "output_type": "display_data"
    }
   ],
   "source": [
    "import numpy as np\n",
    "import matplotlib.pyplot as plt\n",
    "import seaborn as sns\n",
    "from sklearn.metrics import confusion_matrix\n",
    "\n",
    "# 혼동행렬 시각화\n",
    "plt.figure(figsize=(3, 3))\n",
    "sns.heatmap(df, annot=True, fmt=\"d\", cmap='Blues', cbar=False)\n",
    "plt.xlabel('Predicted Label')\n",
    "plt.ylabel('True Label')\n",
    "plt.title('Seat Confusion Matrix')\n",
    "plt.show()"
   ]
  },
  {
   "cell_type": "code",
   "execution_count": 208,
   "id": "2caae926-5520-4429-8e0b-731bef4e8c50",
   "metadata": {},
   "outputs": [
    {
     "name": "stdout",
     "output_type": "stream",
     "text": [
      "10241 paths are found\n"
     ]
    }
   ],
   "source": [
    "data_path_list = utils.path_finder(\"/home/yckim/research/ecg_id/dataset/icentia/processed_1/\", \".npz\")\n",
    "corrupted_list = []\n",
    "for data_path in data_path_list:\n",
    "    temp_data = np.load(data_path, allow_pickle = True)[\"data\"]\n",
    "    if temp_data.shape[1] != 200:\n",
    "        corrupted_list.append(data_path)"
   ]
  },
  {
   "cell_type": "code",
   "execution_count": 209,
   "id": "8fa66139-9310-4975-b29d-d9c2688f1ec1",
   "metadata": {},
   "outputs": [
    {
     "data": {
      "text/plain": [
       "200"
      ]
     },
     "execution_count": 209,
     "metadata": {},
     "output_type": "execute_result"
    }
   ],
   "source": [
    "temp_data.shape[1]"
   ]
  },
  {
   "cell_type": "code",
   "execution_count": 201,
   "id": "7c69c25e-3791-4e94-a22b-bd18fed65a84",
   "metadata": {
    "collapsed": true,
    "jupyter": {
     "outputs_hidden": true
    }
   },
   "outputs": [
    {
     "name": "stdout",
     "output_type": "stream",
     "text": [
      "Deleted directory: /home/yckim/research/ecg_id/dataset/icentia/processed_1/07905\n",
      "Deleted directory: /home/yckim/research/ecg_id/dataset/icentia/processed_1/09396\n",
      "Deleted directory: /home/yckim/research/ecg_id/dataset/icentia/processed_1/08320\n",
      "Deleted directory: /home/yckim/research/ecg_id/dataset/icentia/processed_1/04824\n",
      "Deleted directory: /home/yckim/research/ecg_id/dataset/icentia/processed_1/04862\n",
      "Deleted directory: /home/yckim/research/ecg_id/dataset/icentia/processed_1/10968\n",
      "Deleted directory: /home/yckim/research/ecg_id/dataset/icentia/processed_1/07434\n",
      "Deleted directory: /home/yckim/research/ecg_id/dataset/icentia/processed_1/07384\n",
      "Deleted directory: /home/yckim/research/ecg_id/dataset/icentia/processed_1/09784\n",
      "Deleted directory: /home/yckim/research/ecg_id/dataset/icentia/processed_1/05973\n",
      "Deleted directory: /home/yckim/research/ecg_id/dataset/icentia/processed_1/02298\n",
      "Deleted directory: /home/yckim/research/ecg_id/dataset/icentia/processed_1/03802\n",
      "Deleted directory: /home/yckim/research/ecg_id/dataset/icentia/processed_1/10874\n",
      "Deleted directory: /home/yckim/research/ecg_id/dataset/icentia/processed_1/07964\n",
      "Deleted directory: /home/yckim/research/ecg_id/dataset/icentia/processed_1/10565\n",
      "Deleted directory: /home/yckim/research/ecg_id/dataset/icentia/processed_1/06084\n",
      "Deleted directory: /home/yckim/research/ecg_id/dataset/icentia/processed_1/09484\n",
      "Deleted directory: /home/yckim/research/ecg_id/dataset/icentia/processed_1/03252\n",
      "Deleted directory: /home/yckim/research/ecg_id/dataset/icentia/processed_1/08092\n",
      "Deleted directory: /home/yckim/research/ecg_id/dataset/icentia/processed_1/03985\n",
      "Deleted directory: /home/yckim/research/ecg_id/dataset/icentia/processed_1/03287\n",
      "Deleted directory: /home/yckim/research/ecg_id/dataset/icentia/processed_1/05524\n",
      "Deleted directory: /home/yckim/research/ecg_id/dataset/icentia/processed_1/03097\n",
      "Deleted directory: /home/yckim/research/ecg_id/dataset/icentia/processed_1/09302\n",
      "Deleted directory: /home/yckim/research/ecg_id/dataset/icentia/processed_1/01933\n",
      "Deleted directory: /home/yckim/research/ecg_id/dataset/icentia/processed_1/01331\n",
      "Deleted directory: /home/yckim/research/ecg_id/dataset/icentia/processed_1/09650\n",
      "Deleted directory: /home/yckim/research/ecg_id/dataset/icentia/processed_1/08872\n",
      "Deleted directory: /home/yckim/research/ecg_id/dataset/icentia/processed_1/04618\n",
      "Deleted directory: /home/yckim/research/ecg_id/dataset/icentia/processed_1/00584\n",
      "Deleted directory: /home/yckim/research/ecg_id/dataset/icentia/processed_1/02653\n",
      "Deleted directory: /home/yckim/research/ecg_id/dataset/icentia/processed_1/00271\n",
      "Deleted directory: /home/yckim/research/ecg_id/dataset/icentia/processed_1/04455\n",
      "Deleted directory: /home/yckim/research/ecg_id/dataset/icentia/processed_1/03706\n",
      "Deleted directory: /home/yckim/research/ecg_id/dataset/icentia/processed_1/03039\n",
      "Deleted directory: /home/yckim/research/ecg_id/dataset/icentia/processed_1/02643\n",
      "Deleted directory: /home/yckim/research/ecg_id/dataset/icentia/processed_1/02369\n",
      "Deleted directory: /home/yckim/research/ecg_id/dataset/icentia/processed_1/08008\n",
      "Deleted directory: /home/yckim/research/ecg_id/dataset/icentia/processed_1/09855\n",
      "Deleted directory: /home/yckim/research/ecg_id/dataset/icentia/processed_1/10547\n",
      "Deleted directory: /home/yckim/research/ecg_id/dataset/icentia/processed_1/01338\n",
      "Deleted directory: /home/yckim/research/ecg_id/dataset/icentia/processed_1/10188\n",
      "Deleted directory: /home/yckim/research/ecg_id/dataset/icentia/processed_1/05453\n",
      "Deleted directory: /home/yckim/research/ecg_id/dataset/icentia/processed_1/02767\n",
      "Deleted directory: /home/yckim/research/ecg_id/dataset/icentia/processed_1/04073\n",
      "Deleted directory: /home/yckim/research/ecg_id/dataset/icentia/processed_1/06768\n",
      "Deleted directory: /home/yckim/research/ecg_id/dataset/icentia/processed_1/10467\n",
      "Deleted directory: /home/yckim/research/ecg_id/dataset/icentia/processed_1/02594\n",
      "Deleted directory: /home/yckim/research/ecg_id/dataset/icentia/processed_1/10984\n",
      "Deleted directory: /home/yckim/research/ecg_id/dataset/icentia/processed_1/07506\n",
      "Deleted directory: /home/yckim/research/ecg_id/dataset/icentia/processed_1/05827\n",
      "Deleted directory: /home/yckim/research/ecg_id/dataset/icentia/processed_1/01609\n",
      "Deleted directory: /home/yckim/research/ecg_id/dataset/icentia/processed_1/03456\n",
      "Deleted directory: /home/yckim/research/ecg_id/dataset/icentia/processed_1/03966\n",
      "Deleted directory: /home/yckim/research/ecg_id/dataset/icentia/processed_1/03126\n",
      "Deleted directory: /home/yckim/research/ecg_id/dataset/icentia/processed_1/02521\n",
      "Deleted directory: /home/yckim/research/ecg_id/dataset/icentia/processed_1/05149\n",
      "Deleted directory: /home/yckim/research/ecg_id/dataset/icentia/processed_1/09779\n",
      "Deleted directory: /home/yckim/research/ecg_id/dataset/icentia/processed_1/05975\n",
      "Deleted directory: /home/yckim/research/ecg_id/dataset/icentia/processed_1/09392\n",
      "Deleted directory: /home/yckim/research/ecg_id/dataset/icentia/processed_1/06923\n",
      "Deleted directory: /home/yckim/research/ecg_id/dataset/icentia/processed_1/10262\n",
      "Deleted directory: /home/yckim/research/ecg_id/dataset/icentia/processed_1/00957\n",
      "Deleted directory: /home/yckim/research/ecg_id/dataset/icentia/processed_1/04828\n",
      "Deleted directory: /home/yckim/research/ecg_id/dataset/icentia/processed_1/10544\n",
      "Deleted directory: /home/yckim/research/ecg_id/dataset/icentia/processed_1/07327\n",
      "Deleted directory: /home/yckim/research/ecg_id/dataset/icentia/processed_1/00082\n",
      "Deleted directory: /home/yckim/research/ecg_id/dataset/icentia/processed_1/09331\n",
      "Deleted directory: /home/yckim/research/ecg_id/dataset/icentia/processed_1/07503\n",
      "Deleted directory: /home/yckim/research/ecg_id/dataset/icentia/processed_1/09468\n",
      "Deleted directory: /home/yckim/research/ecg_id/dataset/icentia/processed_1/10919\n",
      "Deleted directory: /home/yckim/research/ecg_id/dataset/icentia/processed_1/08159\n",
      "Deleted directory: /home/yckim/research/ecg_id/dataset/icentia/processed_1/10760\n",
      "Deleted directory: /home/yckim/research/ecg_id/dataset/icentia/processed_1/03594\n",
      "Deleted directory: /home/yckim/research/ecg_id/dataset/icentia/processed_1/03956\n",
      "Deleted directory: /home/yckim/research/ecg_id/dataset/icentia/processed_1/10629\n",
      "Deleted directory: /home/yckim/research/ecg_id/dataset/icentia/processed_1/09216\n",
      "Deleted directory: /home/yckim/research/ecg_id/dataset/icentia/processed_1/09467\n",
      "Deleted directory: /home/yckim/research/ecg_id/dataset/icentia/processed_1/00418\n",
      "Deleted directory: /home/yckim/research/ecg_id/dataset/icentia/processed_1/07153\n",
      "Deleted directory: /home/yckim/research/ecg_id/dataset/icentia/processed_1/04263\n",
      "Deleted directory: /home/yckim/research/ecg_id/dataset/icentia/processed_1/05990\n",
      "Deleted directory: /home/yckim/research/ecg_id/dataset/icentia/processed_1/06360\n",
      "Deleted directory: /home/yckim/research/ecg_id/dataset/icentia/processed_1/07316\n",
      "Deleted directory: /home/yckim/research/ecg_id/dataset/icentia/processed_1/10450\n",
      "Deleted directory: /home/yckim/research/ecg_id/dataset/icentia/processed_1/00299\n",
      "Deleted directory: /home/yckim/research/ecg_id/dataset/icentia/processed_1/05184\n",
      "Deleted directory: /home/yckim/research/ecg_id/dataset/icentia/processed_1/07846\n",
      "Deleted directory: /home/yckim/research/ecg_id/dataset/icentia/processed_1/07822\n",
      "Deleted directory: /home/yckim/research/ecg_id/dataset/icentia/processed_1/03890\n",
      "Deleted directory: /home/yckim/research/ecg_id/dataset/icentia/processed_1/05234\n",
      "Deleted directory: /home/yckim/research/ecg_id/dataset/icentia/processed_1/00500\n",
      "Deleted directory: /home/yckim/research/ecg_id/dataset/icentia/processed_1/07047\n",
      "Deleted directory: /home/yckim/research/ecg_id/dataset/icentia/processed_1/06677\n",
      "Deleted directory: /home/yckim/research/ecg_id/dataset/icentia/processed_1/07337\n",
      "Deleted directory: /home/yckim/research/ecg_id/dataset/icentia/processed_1/10015\n",
      "Deleted directory: /home/yckim/research/ecg_id/dataset/icentia/processed_1/09977\n",
      "Deleted directory: /home/yckim/research/ecg_id/dataset/icentia/processed_1/06498\n",
      "Deleted directory: /home/yckim/research/ecg_id/dataset/icentia/processed_1/00591\n",
      "Deleted directory: /home/yckim/research/ecg_id/dataset/icentia/processed_1/07277\n",
      "Deleted directory: /home/yckim/research/ecg_id/dataset/icentia/processed_1/04720\n",
      "Deleted directory: /home/yckim/research/ecg_id/dataset/icentia/processed_1/10573\n",
      "Deleted directory: /home/yckim/research/ecg_id/dataset/icentia/processed_1/07232\n",
      "Deleted directory: /home/yckim/research/ecg_id/dataset/icentia/processed_1/09061\n",
      "Deleted directory: /home/yckim/research/ecg_id/dataset/icentia/processed_1/07111\n",
      "Deleted directory: /home/yckim/research/ecg_id/dataset/icentia/processed_1/07189\n",
      "Deleted directory: /home/yckim/research/ecg_id/dataset/icentia/processed_1/00213\n",
      "Deleted directory: /home/yckim/research/ecg_id/dataset/icentia/processed_1/00456\n",
      "Deleted directory: /home/yckim/research/ecg_id/dataset/icentia/processed_1/00457\n",
      "Deleted directory: /home/yckim/research/ecg_id/dataset/icentia/processed_1/00446\n",
      "Deleted directory: /home/yckim/research/ecg_id/dataset/icentia/processed_1/10605\n",
      "Deleted directory: /home/yckim/research/ecg_id/dataset/icentia/processed_1/00328\n",
      "Deleted directory: /home/yckim/research/ecg_id/dataset/icentia/processed_1/01152\n",
      "Deleted directory: /home/yckim/research/ecg_id/dataset/icentia/processed_1/05466\n",
      "Deleted directory: /home/yckim/research/ecg_id/dataset/icentia/processed_1/01978\n",
      "Deleted directory: /home/yckim/research/ecg_id/dataset/icentia/processed_1/02886\n",
      "Deleted directory: /home/yckim/research/ecg_id/dataset/icentia/processed_1/04424\n",
      "Deleted directory: /home/yckim/research/ecg_id/dataset/icentia/processed_1/09284\n",
      "Deleted directory: /home/yckim/research/ecg_id/dataset/icentia/processed_1/04025\n",
      "Deleted directory: /home/yckim/research/ecg_id/dataset/icentia/processed_1/09318\n",
      "Deleted directory: /home/yckim/research/ecg_id/dataset/icentia/processed_1/10726\n",
      "Deleted directory: /home/yckim/research/ecg_id/dataset/icentia/processed_1/08363\n",
      "Deleted directory: /home/yckim/research/ecg_id/dataset/icentia/processed_1/04334\n",
      "Deleted directory: /home/yckim/research/ecg_id/dataset/icentia/processed_1/03182\n",
      "Deleted directory: /home/yckim/research/ecg_id/dataset/icentia/processed_1/03745\n",
      "Deleted directory: /home/yckim/research/ecg_id/dataset/icentia/processed_1/10070\n",
      "Deleted directory: /home/yckim/research/ecg_id/dataset/icentia/processed_1/02862\n",
      "Deleted directory: /home/yckim/research/ecg_id/dataset/icentia/processed_1/01293\n",
      "Deleted directory: /home/yckim/research/ecg_id/dataset/icentia/processed_1/09868\n",
      "Deleted directory: /home/yckim/research/ecg_id/dataset/icentia/processed_1/07236\n",
      "Deleted directory: /home/yckim/research/ecg_id/dataset/icentia/processed_1/02701\n",
      "Deleted directory: /home/yckim/research/ecg_id/dataset/icentia/processed_1/01154\n",
      "Deleted directory: /home/yckim/research/ecg_id/dataset/icentia/processed_1/05856\n",
      "Deleted directory: /home/yckim/research/ecg_id/dataset/icentia/processed_1/10274\n",
      "Deleted directory: /home/yckim/research/ecg_id/dataset/icentia/processed_1/00513\n",
      "Deleted directory: /home/yckim/research/ecg_id/dataset/icentia/processed_1/05708\n",
      "Deleted directory: /home/yckim/research/ecg_id/dataset/icentia/processed_1/09420\n",
      "Deleted directory: /home/yckim/research/ecg_id/dataset/icentia/processed_1/07553\n",
      "Deleted directory: /home/yckim/research/ecg_id/dataset/icentia/processed_1/04516\n",
      "Deleted directory: /home/yckim/research/ecg_id/dataset/icentia/processed_1/03944\n",
      "Deleted directory: /home/yckim/research/ecg_id/dataset/icentia/processed_1/01304\n",
      "Deleted directory: /home/yckim/research/ecg_id/dataset/icentia/processed_1/01163\n",
      "Deleted directory: /home/yckim/research/ecg_id/dataset/icentia/processed_1/03404\n",
      "Deleted directory: /home/yckim/research/ecg_id/dataset/icentia/processed_1/04951\n",
      "Deleted directory: /home/yckim/research/ecg_id/dataset/icentia/processed_1/03850\n",
      "Deleted directory: /home/yckim/research/ecg_id/dataset/icentia/processed_1/00607\n",
      "Deleted directory: /home/yckim/research/ecg_id/dataset/icentia/processed_1/04378\n",
      "Deleted directory: /home/yckim/research/ecg_id/dataset/icentia/processed_1/07730\n",
      "Deleted directory: /home/yckim/research/ecg_id/dataset/icentia/processed_1/08357\n",
      "Deleted directory: /home/yckim/research/ecg_id/dataset/icentia/processed_1/08848\n",
      "Deleted directory: /home/yckim/research/ecg_id/dataset/icentia/processed_1/02869\n",
      "Deleted directory: /home/yckim/research/ecg_id/dataset/icentia/processed_1/00903\n",
      "Deleted directory: /home/yckim/research/ecg_id/dataset/icentia/processed_1/08532\n",
      "Deleted directory: /home/yckim/research/ecg_id/dataset/icentia/processed_1/08160\n",
      "Deleted directory: /home/yckim/research/ecg_id/dataset/icentia/processed_1/00417\n",
      "Deleted directory: /home/yckim/research/ecg_id/dataset/icentia/processed_1/04021\n",
      "Deleted directory: /home/yckim/research/ecg_id/dataset/icentia/processed_1/03531\n",
      "Deleted directory: /home/yckim/research/ecg_id/dataset/icentia/processed_1/07095\n",
      "Deleted directory: /home/yckim/research/ecg_id/dataset/icentia/processed_1/10759\n",
      "Deleted directory: /home/yckim/research/ecg_id/dataset/icentia/processed_1/05103\n",
      "Deleted directory: /home/yckim/research/ecg_id/dataset/icentia/processed_1/01340\n",
      "Deleted directory: /home/yckim/research/ecg_id/dataset/icentia/processed_1/07589\n",
      "Deleted directory: /home/yckim/research/ecg_id/dataset/icentia/processed_1/05244\n",
      "Deleted directory: /home/yckim/research/ecg_id/dataset/icentia/processed_1/09733\n",
      "Deleted directory: /home/yckim/research/ecg_id/dataset/icentia/processed_1/02014\n",
      "Deleted directory: /home/yckim/research/ecg_id/dataset/icentia/processed_1/10103\n",
      "Deleted directory: /home/yckim/research/ecg_id/dataset/icentia/processed_1/10615\n",
      "Deleted directory: /home/yckim/research/ecg_id/dataset/icentia/processed_1/00292\n",
      "Deleted directory: /home/yckim/research/ecg_id/dataset/icentia/processed_1/10344\n",
      "Deleted directory: /home/yckim/research/ecg_id/dataset/icentia/processed_1/04567\n",
      "Deleted directory: /home/yckim/research/ecg_id/dataset/icentia/processed_1/00177\n",
      "Deleted directory: /home/yckim/research/ecg_id/dataset/icentia/processed_1/07649\n",
      "Deleted directory: /home/yckim/research/ecg_id/dataset/icentia/processed_1/08900\n",
      "Deleted directory: /home/yckim/research/ecg_id/dataset/icentia/processed_1/10772\n",
      "Deleted directory: /home/yckim/research/ecg_id/dataset/icentia/processed_1/07490\n",
      "Deleted directory: /home/yckim/research/ecg_id/dataset/icentia/processed_1/02871\n",
      "Deleted directory: /home/yckim/research/ecg_id/dataset/icentia/processed_1/03834\n",
      "Deleted directory: /home/yckim/research/ecg_id/dataset/icentia/processed_1/03717\n",
      "Deleted directory: /home/yckim/research/ecg_id/dataset/icentia/processed_1/09755\n",
      "Deleted directory: /home/yckim/research/ecg_id/dataset/icentia/processed_1/00507\n",
      "Deleted directory: /home/yckim/research/ecg_id/dataset/icentia/processed_1/05670\n",
      "Deleted directory: /home/yckim/research/ecg_id/dataset/icentia/processed_1/07804\n",
      "Deleted directory: /home/yckim/research/ecg_id/dataset/icentia/processed_1/08189\n",
      "Deleted directory: /home/yckim/research/ecg_id/dataset/icentia/processed_1/00166\n",
      "Deleted directory: /home/yckim/research/ecg_id/dataset/icentia/processed_1/01528\n",
      "Deleted directory: /home/yckim/research/ecg_id/dataset/icentia/processed_1/00512\n",
      "Deleted directory: /home/yckim/research/ecg_id/dataset/icentia/processed_1/06239\n",
      "Deleted directory: /home/yckim/research/ecg_id/dataset/icentia/processed_1/04779\n",
      "Deleted directory: /home/yckim/research/ecg_id/dataset/icentia/processed_1/09475\n",
      "Deleted directory: /home/yckim/research/ecg_id/dataset/icentia/processed_1/01966\n",
      "Deleted directory: /home/yckim/research/ecg_id/dataset/icentia/processed_1/03881\n",
      "Deleted directory: /home/yckim/research/ecg_id/dataset/icentia/processed_1/10966\n",
      "Deleted directory: /home/yckim/research/ecg_id/dataset/icentia/processed_1/05447\n",
      "Deleted directory: /home/yckim/research/ecg_id/dataset/icentia/processed_1/04417\n",
      "Deleted directory: /home/yckim/research/ecg_id/dataset/icentia/processed_1/10268\n",
      "Deleted directory: /home/yckim/research/ecg_id/dataset/icentia/processed_1/03905\n",
      "Deleted directory: /home/yckim/research/ecg_id/dataset/icentia/processed_1/06493\n",
      "Deleted directory: /home/yckim/research/ecg_id/dataset/icentia/processed_1/07368\n",
      "Deleted directory: /home/yckim/research/ecg_id/dataset/icentia/processed_1/09790\n",
      "Deleted directory: /home/yckim/research/ecg_id/dataset/icentia/processed_1/09234\n",
      "Deleted directory: /home/yckim/research/ecg_id/dataset/icentia/processed_1/01219\n",
      "Deleted directory: /home/yckim/research/ecg_id/dataset/icentia/processed_1/07739\n",
      "Deleted directory: /home/yckim/research/ecg_id/dataset/icentia/processed_1/10813\n",
      "Deleted directory: /home/yckim/research/ecg_id/dataset/icentia/processed_1/00911\n",
      "Deleted directory: /home/yckim/research/ecg_id/dataset/icentia/processed_1/03086\n",
      "Deleted directory: /home/yckim/research/ecg_id/dataset/icentia/processed_1/00171\n",
      "Deleted directory: /home/yckim/research/ecg_id/dataset/icentia/processed_1/01233\n",
      "Deleted directory: /home/yckim/research/ecg_id/dataset/icentia/processed_1/00529\n",
      "Deleted directory: /home/yckim/research/ecg_id/dataset/icentia/processed_1/07973\n",
      "Deleted directory: /home/yckim/research/ecg_id/dataset/icentia/processed_1/02671\n",
      "Deleted directory: /home/yckim/research/ecg_id/dataset/icentia/processed_1/00465\n",
      "Deleted directory: /home/yckim/research/ecg_id/dataset/icentia/processed_1/08513\n",
      "Deleted directory: /home/yckim/research/ecg_id/dataset/icentia/processed_1/09518\n",
      "Deleted directory: /home/yckim/research/ecg_id/dataset/icentia/processed_1/05163\n",
      "Deleted directory: /home/yckim/research/ecg_id/dataset/icentia/processed_1/07713\n",
      "Deleted directory: /home/yckim/research/ecg_id/dataset/icentia/processed_1/10915\n",
      "Deleted directory: /home/yckim/research/ecg_id/dataset/icentia/processed_1/08222\n",
      "Deleted directory: /home/yckim/research/ecg_id/dataset/icentia/processed_1/04210\n",
      "Deleted directory: /home/yckim/research/ecg_id/dataset/icentia/processed_1/08162\n",
      "Deleted directory: /home/yckim/research/ecg_id/dataset/icentia/processed_1/01975\n",
      "Deleted directory: /home/yckim/research/ecg_id/dataset/icentia/processed_1/03069\n",
      "Deleted directory: /home/yckim/research/ecg_id/dataset/icentia/processed_1/02108\n",
      "Deleted directory: /home/yckim/research/ecg_id/dataset/icentia/processed_1/04838\n",
      "Deleted directory: /home/yckim/research/ecg_id/dataset/icentia/processed_1/10694\n",
      "Deleted directory: /home/yckim/research/ecg_id/dataset/icentia/processed_1/00719\n",
      "Deleted directory: /home/yckim/research/ecg_id/dataset/icentia/processed_1/07072\n",
      "Deleted directory: /home/yckim/research/ecg_id/dataset/icentia/processed_1/01386\n",
      "Deleted directory: /home/yckim/research/ecg_id/dataset/icentia/processed_1/06067\n",
      "Deleted directory: /home/yckim/research/ecg_id/dataset/icentia/processed_1/08269\n",
      "Deleted directory: /home/yckim/research/ecg_id/dataset/icentia/processed_1/10951\n",
      "Deleted directory: /home/yckim/research/ecg_id/dataset/icentia/processed_1/04035\n",
      "Deleted directory: /home/yckim/research/ecg_id/dataset/icentia/processed_1/10034\n",
      "Deleted directory: /home/yckim/research/ecg_id/dataset/icentia/processed_1/02166\n",
      "Deleted directory: /home/yckim/research/ecg_id/dataset/icentia/processed_1/06716\n",
      "Deleted directory: /home/yckim/research/ecg_id/dataset/icentia/processed_1/00365\n",
      "Deleted directory: /home/yckim/research/ecg_id/dataset/icentia/processed_1/10541\n",
      "Deleted directory: /home/yckim/research/ecg_id/dataset/icentia/processed_1/09867\n",
      "Deleted directory: /home/yckim/research/ecg_id/dataset/icentia/processed_1/08412\n",
      "Deleted directory: /home/yckim/research/ecg_id/dataset/icentia/processed_1/05550\n",
      "Deleted directory: /home/yckim/research/ecg_id/dataset/icentia/processed_1/08353\n",
      "Deleted directory: /home/yckim/research/ecg_id/dataset/icentia/processed_1/02860\n",
      "Deleted directory: /home/yckim/research/ecg_id/dataset/icentia/processed_1/04397\n",
      "Deleted directory: /home/yckim/research/ecg_id/dataset/icentia/processed_1/07040\n",
      "Deleted directory: /home/yckim/research/ecg_id/dataset/icentia/processed_1/10488\n",
      "Deleted directory: /home/yckim/research/ecg_id/dataset/icentia/processed_1/10048\n",
      "Deleted directory: /home/yckim/research/ecg_id/dataset/icentia/processed_1/03662\n",
      "Deleted directory: /home/yckim/research/ecg_id/dataset/icentia/processed_1/03991\n",
      "Deleted directory: /home/yckim/research/ecg_id/dataset/icentia/processed_1/07680\n",
      "Deleted directory: /home/yckim/research/ecg_id/dataset/icentia/processed_1/08378\n",
      "Deleted directory: /home/yckim/research/ecg_id/dataset/icentia/processed_1/00924\n",
      "Deleted directory: /home/yckim/research/ecg_id/dataset/icentia/processed_1/04030\n",
      "Deleted directory: /home/yckim/research/ecg_id/dataset/icentia/processed_1/07116\n",
      "Deleted directory: /home/yckim/research/ecg_id/dataset/icentia/processed_1/03330\n",
      "Deleted directory: /home/yckim/research/ecg_id/dataset/icentia/processed_1/00202\n",
      "Deleted directory: /home/yckim/research/ecg_id/dataset/icentia/processed_1/07686\n",
      "Deleted directory: /home/yckim/research/ecg_id/dataset/icentia/processed_1/01230\n",
      "Deleted directory: /home/yckim/research/ecg_id/dataset/icentia/processed_1/08554\n",
      "Deleted directory: /home/yckim/research/ecg_id/dataset/icentia/processed_1/07961\n",
      "Deleted directory: /home/yckim/research/ecg_id/dataset/icentia/processed_1/05715\n",
      "Deleted directory: /home/yckim/research/ecg_id/dataset/icentia/processed_1/02680\n",
      "Deleted directory: /home/yckim/research/ecg_id/dataset/icentia/processed_1/04282\n",
      "Deleted directory: /home/yckim/research/ecg_id/dataset/icentia/processed_1/02488\n",
      "Deleted directory: /home/yckim/research/ecg_id/dataset/icentia/processed_1/10476\n",
      "Deleted directory: /home/yckim/research/ecg_id/dataset/icentia/processed_1/05982\n",
      "Deleted directory: /home/yckim/research/ecg_id/dataset/icentia/processed_1/03762\n",
      "Deleted directory: /home/yckim/research/ecg_id/dataset/icentia/processed_1/01117\n",
      "Deleted directory: /home/yckim/research/ecg_id/dataset/icentia/processed_1/04122\n",
      "Deleted directory: /home/yckim/research/ecg_id/dataset/icentia/processed_1/06556\n",
      "Deleted directory: /home/yckim/research/ecg_id/dataset/icentia/processed_1/05935\n",
      "Deleted directory: /home/yckim/research/ecg_id/dataset/icentia/processed_1/02813\n",
      "Deleted directory: /home/yckim/research/ecg_id/dataset/icentia/processed_1/04044\n",
      "Deleted directory: /home/yckim/research/ecg_id/dataset/icentia/processed_1/01848\n",
      "Deleted directory: /home/yckim/research/ecg_id/dataset/icentia/processed_1/03523\n",
      "Deleted directory: /home/yckim/research/ecg_id/dataset/icentia/processed_1/09351\n",
      "Deleted directory: /home/yckim/research/ecg_id/dataset/icentia/processed_1/03410\n",
      "Deleted directory: /home/yckim/research/ecg_id/dataset/icentia/processed_1/07258\n",
      "Deleted directory: /home/yckim/research/ecg_id/dataset/icentia/processed_1/08827\n",
      "Deleted directory: /home/yckim/research/ecg_id/dataset/icentia/processed_1/05459\n",
      "Deleted directory: /home/yckim/research/ecg_id/dataset/icentia/processed_1/08582\n",
      "Deleted directory: /home/yckim/research/ecg_id/dataset/icentia/processed_1/04878\n",
      "Deleted directory: /home/yckim/research/ecg_id/dataset/icentia/processed_1/03235\n",
      "Deleted directory: /home/yckim/research/ecg_id/dataset/icentia/processed_1/08547\n",
      "Deleted directory: /home/yckim/research/ecg_id/dataset/icentia/processed_1/10620\n",
      "Deleted directory: /home/yckim/research/ecg_id/dataset/icentia/processed_1/10602\n",
      "Deleted directory: /home/yckim/research/ecg_id/dataset/icentia/processed_1/10778\n",
      "Deleted directory: /home/yckim/research/ecg_id/dataset/icentia/processed_1/03370\n",
      "Deleted directory: /home/yckim/research/ecg_id/dataset/icentia/processed_1/08106\n",
      "Deleted directory: /home/yckim/research/ecg_id/dataset/icentia/processed_1/08853\n",
      "Deleted directory: /home/yckim/research/ecg_id/dataset/icentia/processed_1/07175\n",
      "Deleted directory: /home/yckim/research/ecg_id/dataset/icentia/processed_1/10491\n",
      "Deleted directory: /home/yckim/research/ecg_id/dataset/icentia/processed_1/00247\n",
      "Deleted directory: /home/yckim/research/ecg_id/dataset/icentia/processed_1/04411\n",
      "Deleted directory: /home/yckim/research/ecg_id/dataset/icentia/processed_1/03441\n",
      "Deleted directory: /home/yckim/research/ecg_id/dataset/icentia/processed_1/04041\n",
      "Deleted directory: /home/yckim/research/ecg_id/dataset/icentia/processed_1/03386\n",
      "Deleted directory: /home/yckim/research/ecg_id/dataset/icentia/processed_1/07809\n",
      "Deleted directory: /home/yckim/research/ecg_id/dataset/icentia/processed_1/10195\n",
      "Deleted directory: /home/yckim/research/ecg_id/dataset/icentia/processed_1/07839\n",
      "Deleted directory: /home/yckim/research/ecg_id/dataset/icentia/processed_1/01924\n",
      "Deleted directory: /home/yckim/research/ecg_id/dataset/icentia/processed_1/02541\n",
      "Deleted directory: /home/yckim/research/ecg_id/dataset/icentia/processed_1/02508\n",
      "Deleted directory: /home/yckim/research/ecg_id/dataset/icentia/processed_1/00230\n",
      "Deleted directory: /home/yckim/research/ecg_id/dataset/icentia/processed_1/05672\n",
      "Deleted directory: /home/yckim/research/ecg_id/dataset/icentia/processed_1/03638\n",
      "Deleted directory: /home/yckim/research/ecg_id/dataset/icentia/processed_1/03293\n",
      "Deleted directory: /home/yckim/research/ecg_id/dataset/icentia/processed_1/10600\n",
      "Deleted directory: /home/yckim/research/ecg_id/dataset/icentia/processed_1/02908\n",
      "Deleted directory: /home/yckim/research/ecg_id/dataset/icentia/processed_1/04627\n",
      "Deleted directory: /home/yckim/research/ecg_id/dataset/icentia/processed_1/09803\n",
      "Deleted directory: /home/yckim/research/ecg_id/dataset/icentia/processed_1/09839\n",
      "Deleted directory: /home/yckim/research/ecg_id/dataset/icentia/processed_1/03245\n",
      "Deleted directory: /home/yckim/research/ecg_id/dataset/icentia/processed_1/08973\n",
      "Deleted directory: /home/yckim/research/ecg_id/dataset/icentia/processed_1/00060\n",
      "Deleted directory: /home/yckim/research/ecg_id/dataset/icentia/processed_1/09635\n",
      "Deleted directory: /home/yckim/research/ecg_id/dataset/icentia/processed_1/04355\n",
      "Deleted directory: /home/yckim/research/ecg_id/dataset/icentia/processed_1/07638\n",
      "Deleted directory: /home/yckim/research/ecg_id/dataset/icentia/processed_1/07014\n",
      "Deleted directory: /home/yckim/research/ecg_id/dataset/icentia/processed_1/02140\n",
      "Deleted directory: /home/yckim/research/ecg_id/dataset/icentia/processed_1/01034\n",
      "Deleted directory: /home/yckim/research/ecg_id/dataset/icentia/processed_1/10160\n",
      "Deleted directory: /home/yckim/research/ecg_id/dataset/icentia/processed_1/04152\n",
      "Deleted directory: /home/yckim/research/ecg_id/dataset/icentia/processed_1/08539\n",
      "Deleted directory: /home/yckim/research/ecg_id/dataset/icentia/processed_1/02753\n",
      "Deleted directory: /home/yckim/research/ecg_id/dataset/icentia/processed_1/08548\n",
      "Deleted directory: /home/yckim/research/ecg_id/dataset/icentia/processed_1/08838\n",
      "Deleted directory: /home/yckim/research/ecg_id/dataset/icentia/processed_1/07080\n",
      "Deleted directory: /home/yckim/research/ecg_id/dataset/icentia/processed_1/09640\n",
      "Deleted directory: /home/yckim/research/ecg_id/dataset/icentia/processed_1/09747\n",
      "Deleted directory: /home/yckim/research/ecg_id/dataset/icentia/processed_1/05469\n",
      "Deleted directory: /home/yckim/research/ecg_id/dataset/icentia/processed_1/01292\n",
      "Deleted directory: /home/yckim/research/ecg_id/dataset/icentia/processed_1/08651\n",
      "Deleted directory: /home/yckim/research/ecg_id/dataset/icentia/processed_1/03818\n",
      "Deleted directory: /home/yckim/research/ecg_id/dataset/icentia/processed_1/08263\n",
      "Deleted directory: /home/yckim/research/ecg_id/dataset/icentia/processed_1/05968\n",
      "Deleted directory: /home/yckim/research/ecg_id/dataset/icentia/processed_1/00114\n",
      "Deleted directory: /home/yckim/research/ecg_id/dataset/icentia/processed_1/06354\n",
      "Deleted directory: /home/yckim/research/ecg_id/dataset/icentia/processed_1/02478\n",
      "Deleted directory: /home/yckim/research/ecg_id/dataset/icentia/processed_1/10172\n",
      "Deleted directory: /home/yckim/research/ecg_id/dataset/icentia/processed_1/08600\n",
      "Deleted directory: /home/yckim/research/ecg_id/dataset/icentia/processed_1/09915\n",
      "Deleted directory: /home/yckim/research/ecg_id/dataset/icentia/processed_1/10513\n",
      "Deleted directory: /home/yckim/research/ecg_id/dataset/icentia/processed_1/02601\n",
      "Deleted directory: /home/yckim/research/ecg_id/dataset/icentia/processed_1/10969\n",
      "Deleted directory: /home/yckim/research/ecg_id/dataset/icentia/processed_1/06994\n",
      "Deleted directory: /home/yckim/research/ecg_id/dataset/icentia/processed_1/05901\n",
      "Deleted directory: /home/yckim/research/ecg_id/dataset/icentia/processed_1/06697\n",
      "Deleted directory: /home/yckim/research/ecg_id/dataset/icentia/processed_1/08141\n",
      "Deleted directory: /home/yckim/research/ecg_id/dataset/icentia/processed_1/08640\n",
      "Deleted directory: /home/yckim/research/ecg_id/dataset/icentia/processed_1/01904\n",
      "Deleted directory: /home/yckim/research/ecg_id/dataset/icentia/processed_1/10853\n",
      "Deleted directory: /home/yckim/research/ecg_id/dataset/icentia/processed_1/05267\n",
      "Deleted directory: /home/yckim/research/ecg_id/dataset/icentia/processed_1/08241\n",
      "Deleted directory: /home/yckim/research/ecg_id/dataset/icentia/processed_1/08443\n",
      "Deleted directory: /home/yckim/research/ecg_id/dataset/icentia/processed_1/04451\n",
      "Deleted directory: /home/yckim/research/ecg_id/dataset/icentia/processed_1/01699\n",
      "Deleted directory: /home/yckim/research/ecg_id/dataset/icentia/processed_1/04068\n",
      "Deleted directory: /home/yckim/research/ecg_id/dataset/icentia/processed_1/08305\n",
      "Deleted directory: /home/yckim/research/ecg_id/dataset/icentia/processed_1/05094\n",
      "Deleted directory: /home/yckim/research/ecg_id/dataset/icentia/processed_1/03076\n",
      "Deleted directory: /home/yckim/research/ecg_id/dataset/icentia/processed_1/06671\n",
      "Deleted directory: /home/yckim/research/ecg_id/dataset/icentia/processed_1/10784\n",
      "Deleted directory: /home/yckim/research/ecg_id/dataset/icentia/processed_1/06838\n",
      "Deleted directory: /home/yckim/research/ecg_id/dataset/icentia/processed_1/01342\n",
      "Deleted directory: /home/yckim/research/ecg_id/dataset/icentia/processed_1/03499\n",
      "Deleted directory: /home/yckim/research/ecg_id/dataset/icentia/processed_1/05086\n",
      "Deleted directory: /home/yckim/research/ecg_id/dataset/icentia/processed_1/01041\n",
      "Deleted directory: /home/yckim/research/ecg_id/dataset/icentia/processed_1/08193\n",
      "Deleted directory: /home/yckim/research/ecg_id/dataset/icentia/processed_1/01980\n",
      "Deleted directory: /home/yckim/research/ecg_id/dataset/icentia/processed_1/02903\n",
      "Deleted directory: /home/yckim/research/ecg_id/dataset/icentia/processed_1/05353\n",
      "Deleted directory: /home/yckim/research/ecg_id/dataset/icentia/processed_1/03871\n",
      "Deleted directory: /home/yckim/research/ecg_id/dataset/icentia/processed_1/10293\n",
      "Deleted directory: /home/yckim/research/ecg_id/dataset/icentia/processed_1/03560\n",
      "Deleted directory: /home/yckim/research/ecg_id/dataset/icentia/processed_1/02050\n",
      "Deleted directory: /home/yckim/research/ecg_id/dataset/icentia/processed_1/06521\n",
      "Deleted directory: /home/yckim/research/ecg_id/dataset/icentia/processed_1/01949\n",
      "Deleted directory: /home/yckim/research/ecg_id/dataset/icentia/processed_1/05839\n",
      "Deleted directory: /home/yckim/research/ecg_id/dataset/icentia/processed_1/00620\n",
      "Deleted directory: /home/yckim/research/ecg_id/dataset/icentia/processed_1/01809\n",
      "Deleted directory: /home/yckim/research/ecg_id/dataset/icentia/processed_1/05080\n",
      "Deleted directory: /home/yckim/research/ecg_id/dataset/icentia/processed_1/08455\n",
      "Deleted directory: /home/yckim/research/ecg_id/dataset/icentia/processed_1/03826\n",
      "Deleted directory: /home/yckim/research/ecg_id/dataset/icentia/processed_1/02867\n",
      "Deleted directory: /home/yckim/research/ecg_id/dataset/icentia/processed_1/08354\n",
      "Deleted directory: /home/yckim/research/ecg_id/dataset/icentia/processed_1/01268\n",
      "Deleted directory: /home/yckim/research/ecg_id/dataset/icentia/processed_1/01912\n",
      "Deleted directory: /home/yckim/research/ecg_id/dataset/icentia/processed_1/01271\n",
      "Deleted directory: /home/yckim/research/ecg_id/dataset/icentia/processed_1/00680\n",
      "Deleted directory: /home/yckim/research/ecg_id/dataset/icentia/processed_1/06969\n",
      "Deleted directory: /home/yckim/research/ecg_id/dataset/icentia/processed_1/04773\n",
      "Deleted directory: /home/yckim/research/ecg_id/dataset/icentia/processed_1/01670\n",
      "Deleted directory: /home/yckim/research/ecg_id/dataset/icentia/processed_1/09741\n",
      "Deleted directory: /home/yckim/research/ecg_id/dataset/icentia/processed_1/02015\n",
      "Deleted directory: /home/yckim/research/ecg_id/dataset/icentia/processed_1/04568\n",
      "Deleted directory: /home/yckim/research/ecg_id/dataset/icentia/processed_1/02842\n",
      "Deleted directory: /home/yckim/research/ecg_id/dataset/icentia/processed_1/01100\n",
      "Deleted directory: /home/yckim/research/ecg_id/dataset/icentia/processed_1/10340\n",
      "Deleted directory: /home/yckim/research/ecg_id/dataset/icentia/processed_1/10517\n",
      "Deleted directory: /home/yckim/research/ecg_id/dataset/icentia/processed_1/07644\n",
      "Deleted directory: /home/yckim/research/ecg_id/dataset/icentia/processed_1/03280\n",
      "Deleted directory: /home/yckim/research/ecg_id/dataset/icentia/processed_1/00540\n",
      "Deleted directory: /home/yckim/research/ecg_id/dataset/icentia/processed_1/10397\n",
      "Deleted directory: /home/yckim/research/ecg_id/dataset/icentia/processed_1/07570\n",
      "Deleted directory: /home/yckim/research/ecg_id/dataset/icentia/processed_1/09508\n",
      "Deleted directory: /home/yckim/research/ecg_id/dataset/icentia/processed_1/08840\n",
      "Deleted directory: /home/yckim/research/ecg_id/dataset/icentia/processed_1/00434\n",
      "Deleted directory: /home/yckim/research/ecg_id/dataset/icentia/processed_1/03781\n",
      "Deleted directory: /home/yckim/research/ecg_id/dataset/icentia/processed_1/00831\n",
      "Deleted directory: /home/yckim/research/ecg_id/dataset/icentia/processed_1/05546\n",
      "Deleted directory: /home/yckim/research/ecg_id/dataset/icentia/processed_1/01461\n",
      "Deleted directory: /home/yckim/research/ecg_id/dataset/icentia/processed_1/05389\n",
      "Deleted directory: /home/yckim/research/ecg_id/dataset/icentia/processed_1/02017\n",
      "Deleted directory: /home/yckim/research/ecg_id/dataset/icentia/processed_1/02428\n",
      "Deleted directory: /home/yckim/research/ecg_id/dataset/icentia/processed_1/09476\n",
      "Deleted directory: /home/yckim/research/ecg_id/dataset/icentia/processed_1/08670\n",
      "Deleted directory: /home/yckim/research/ecg_id/dataset/icentia/processed_1/06492\n",
      "Deleted directory: /home/yckim/research/ecg_id/dataset/icentia/processed_1/05468\n",
      "Deleted directory: /home/yckim/research/ecg_id/dataset/icentia/processed_1/00037\n",
      "Deleted directory: /home/yckim/research/ecg_id/dataset/icentia/processed_1/02835\n",
      "Deleted directory: /home/yckim/research/ecg_id/dataset/icentia/processed_1/10211\n",
      "Deleted directory: /home/yckim/research/ecg_id/dataset/icentia/processed_1/06405\n",
      "Deleted directory: /home/yckim/research/ecg_id/dataset/icentia/processed_1/03232\n",
      "Deleted directory: /home/yckim/research/ecg_id/dataset/icentia/processed_1/08289\n",
      "Deleted directory: /home/yckim/research/ecg_id/dataset/icentia/processed_1/05300\n",
      "Deleted directory: /home/yckim/research/ecg_id/dataset/icentia/processed_1/03400\n",
      "Deleted directory: /home/yckim/research/ecg_id/dataset/icentia/processed_1/09282\n",
      "Deleted directory: /home/yckim/research/ecg_id/dataset/icentia/processed_1/07464\n",
      "Deleted directory: /home/yckim/research/ecg_id/dataset/icentia/processed_1/09739\n",
      "Deleted directory: /home/yckim/research/ecg_id/dataset/icentia/processed_1/10750\n",
      "Deleted directory: /home/yckim/research/ecg_id/dataset/icentia/processed_1/02770\n",
      "Deleted directory: /home/yckim/research/ecg_id/dataset/icentia/processed_1/00287\n",
      "Deleted directory: /home/yckim/research/ecg_id/dataset/icentia/processed_1/00091\n",
      "Deleted directory: /home/yckim/research/ecg_id/dataset/icentia/processed_1/07749\n",
      "Deleted directory: /home/yckim/research/ecg_id/dataset/icentia/processed_1/09536\n",
      "Deleted directory: /home/yckim/research/ecg_id/dataset/icentia/processed_1/08025\n",
      "Deleted directory: /home/yckim/research/ecg_id/dataset/icentia/processed_1/06087\n",
      "Deleted directory: /home/yckim/research/ecg_id/dataset/icentia/processed_1/06172\n",
      "Deleted directory: /home/yckim/research/ecg_id/dataset/icentia/processed_1/05895\n",
      "Deleted directory: /home/yckim/research/ecg_id/dataset/icentia/processed_1/04661\n",
      "Deleted directory: /home/yckim/research/ecg_id/dataset/icentia/processed_1/00484\n",
      "Deleted directory: /home/yckim/research/ecg_id/dataset/icentia/processed_1/06157\n",
      "Deleted directory: /home/yckim/research/ecg_id/dataset/icentia/processed_1/03288\n",
      "Deleted directory: /home/yckim/research/ecg_id/dataset/icentia/processed_1/06978\n",
      "Deleted directory: /home/yckim/research/ecg_id/dataset/icentia/processed_1/02855\n",
      "Deleted directory: /home/yckim/research/ecg_id/dataset/icentia/processed_1/08493\n",
      "Deleted directory: /home/yckim/research/ecg_id/dataset/icentia/processed_1/01914\n",
      "Deleted directory: /home/yckim/research/ecg_id/dataset/icentia/processed_1/09869\n",
      "Deleted directory: /home/yckim/research/ecg_id/dataset/icentia/processed_1/06949\n",
      "Deleted directory: /home/yckim/research/ecg_id/dataset/icentia/processed_1/10402\n",
      "Deleted directory: /home/yckim/research/ecg_id/dataset/icentia/processed_1/04666\n",
      "Deleted directory: /home/yckim/research/ecg_id/dataset/icentia/processed_1/05497\n",
      "Deleted directory: /home/yckim/research/ecg_id/dataset/icentia/processed_1/00499\n",
      "Deleted directory: /home/yckim/research/ecg_id/dataset/icentia/processed_1/05867\n",
      "Deleted directory: /home/yckim/research/ecg_id/dataset/icentia/processed_1/10449\n",
      "Deleted directory: /home/yckim/research/ecg_id/dataset/icentia/processed_1/05902\n",
      "Deleted directory: /home/yckim/research/ecg_id/dataset/icentia/processed_1/01361\n",
      "Deleted directory: /home/yckim/research/ecg_id/dataset/icentia/processed_1/09337\n",
      "Deleted directory: /home/yckim/research/ecg_id/dataset/icentia/processed_1/08870\n",
      "Deleted directory: /home/yckim/research/ecg_id/dataset/icentia/processed_1/04936\n",
      "Deleted directory: /home/yckim/research/ecg_id/dataset/icentia/processed_1/10852\n",
      "Deleted directory: /home/yckim/research/ecg_id/dataset/icentia/processed_1/08790\n",
      "Deleted directory: /home/yckim/research/ecg_id/dataset/icentia/processed_1/00462\n",
      "Deleted directory: /home/yckim/research/ecg_id/dataset/icentia/processed_1/05007\n",
      "Deleted directory: /home/yckim/research/ecg_id/dataset/icentia/processed_1/04045\n",
      "Deleted directory: /home/yckim/research/ecg_id/dataset/icentia/processed_1/01836\n",
      "Deleted directory: /home/yckim/research/ecg_id/dataset/icentia/processed_1/04429\n",
      "Deleted directory: /home/yckim/research/ecg_id/dataset/icentia/processed_1/09026\n",
      "Deleted directory: /home/yckim/research/ecg_id/dataset/icentia/processed_1/03420\n",
      "Deleted directory: /home/yckim/research/ecg_id/dataset/icentia/processed_1/01531\n",
      "Deleted directory: /home/yckim/research/ecg_id/dataset/icentia/processed_1/04085\n",
      "Deleted directory: /home/yckim/research/ecg_id/dataset/icentia/processed_1/04800\n",
      "Deleted directory: /home/yckim/research/ecg_id/dataset/icentia/processed_1/06092\n",
      "Deleted directory: /home/yckim/research/ecg_id/dataset/icentia/processed_1/03949\n",
      "Deleted directory: /home/yckim/research/ecg_id/dataset/icentia/processed_1/03648\n",
      "Deleted directory: /home/yckim/research/ecg_id/dataset/icentia/processed_1/04086\n",
      "Deleted directory: /home/yckim/research/ecg_id/dataset/icentia/processed_1/01847\n",
      "Deleted directory: /home/yckim/research/ecg_id/dataset/icentia/processed_1/07462\n",
      "Deleted directory: /home/yckim/research/ecg_id/dataset/icentia/processed_1/08329\n",
      "Deleted directory: /home/yckim/research/ecg_id/dataset/icentia/processed_1/07139\n",
      "Deleted directory: /home/yckim/research/ecg_id/dataset/icentia/processed_1/07684\n",
      "Deleted directory: /home/yckim/research/ecg_id/dataset/icentia/processed_1/10697\n",
      "Deleted directory: /home/yckim/research/ecg_id/dataset/icentia/processed_1/04353\n",
      "Deleted directory: /home/yckim/research/ecg_id/dataset/icentia/processed_1/06074\n",
      "Deleted directory: /home/yckim/research/ecg_id/dataset/icentia/processed_1/06373\n",
      "Deleted directory: /home/yckim/research/ecg_id/dataset/icentia/processed_1/01162\n",
      "Deleted directory: /home/yckim/research/ecg_id/dataset/icentia/processed_1/06947\n",
      "Deleted directory: /home/yckim/research/ecg_id/dataset/icentia/processed_1/01645\n",
      "Deleted directory: /home/yckim/research/ecg_id/dataset/icentia/processed_1/01539\n",
      "Deleted directory: /home/yckim/research/ecg_id/dataset/icentia/processed_1/09322\n",
      "Deleted directory: /home/yckim/research/ecg_id/dataset/icentia/processed_1/01443\n",
      "Deleted directory: /home/yckim/research/ecg_id/dataset/icentia/processed_1/04561\n",
      "Deleted directory: /home/yckim/research/ecg_id/dataset/icentia/processed_1/05716\n",
      "Deleted directory: /home/yckim/research/ecg_id/dataset/icentia/processed_1/03697\n",
      "Deleted directory: /home/yckim/research/ecg_id/dataset/icentia/processed_1/06932\n",
      "Deleted directory: /home/yckim/research/ecg_id/dataset/icentia/processed_1/08473\n",
      "Deleted directory: /home/yckim/research/ecg_id/dataset/icentia/processed_1/08514\n",
      "Deleted directory: /home/yckim/research/ecg_id/dataset/icentia/processed_1/05255\n",
      "Deleted directory: /home/yckim/research/ecg_id/dataset/icentia/processed_1/10519\n",
      "Deleted directory: /home/yckim/research/ecg_id/dataset/icentia/processed_1/04538\n",
      "Deleted directory: /home/yckim/research/ecg_id/dataset/icentia/processed_1/09158\n",
      "Deleted directory: /home/yckim/research/ecg_id/dataset/icentia/processed_1/05316\n",
      "Deleted directory: /home/yckim/research/ecg_id/dataset/icentia/processed_1/05960\n",
      "Deleted directory: /home/yckim/research/ecg_id/dataset/icentia/processed_1/09574\n",
      "Deleted directory: /home/yckim/research/ecg_id/dataset/icentia/processed_1/02679\n",
      "Deleted directory: /home/yckim/research/ecg_id/dataset/icentia/processed_1/04506\n",
      "Deleted directory: /home/yckim/research/ecg_id/dataset/icentia/processed_1/04324\n",
      "Deleted directory: /home/yckim/research/ecg_id/dataset/icentia/processed_1/04687\n",
      "Deleted directory: /home/yckim/research/ecg_id/dataset/icentia/processed_1/05223\n",
      "Deleted directory: /home/yckim/research/ecg_id/dataset/icentia/processed_1/06594\n",
      "Deleted directory: /home/yckim/research/ecg_id/dataset/icentia/processed_1/07893\n",
      "Deleted directory: /home/yckim/research/ecg_id/dataset/icentia/processed_1/02845\n",
      "Deleted directory: /home/yckim/research/ecg_id/dataset/icentia/processed_1/07572\n",
      "Deleted directory: /home/yckim/research/ecg_id/dataset/icentia/processed_1/07192\n",
      "Deleted directory: /home/yckim/research/ecg_id/dataset/icentia/processed_1/04983\n",
      "Deleted directory: /home/yckim/research/ecg_id/dataset/icentia/processed_1/03332\n",
      "Deleted directory: /home/yckim/research/ecg_id/dataset/icentia/processed_1/03909\n",
      "Deleted directory: /home/yckim/research/ecg_id/dataset/icentia/processed_1/06072\n",
      "Deleted directory: /home/yckim/research/ecg_id/dataset/icentia/processed_1/02098\n",
      "Deleted directory: /home/yckim/research/ecg_id/dataset/icentia/processed_1/07612\n",
      "Deleted directory: /home/yckim/research/ecg_id/dataset/icentia/processed_1/07786\n",
      "Deleted directory: /home/yckim/research/ecg_id/dataset/icentia/processed_1/10890\n",
      "Deleted directory: /home/yckim/research/ecg_id/dataset/icentia/processed_1/03720\n",
      "Deleted directory: /home/yckim/research/ecg_id/dataset/icentia/processed_1/01781\n",
      "Deleted directory: /home/yckim/research/ecg_id/dataset/icentia/processed_1/06753\n",
      "Deleted directory: /home/yckim/research/ecg_id/dataset/icentia/processed_1/05488\n",
      "Deleted directory: /home/yckim/research/ecg_id/dataset/icentia/processed_1/01628\n",
      "Deleted directory: /home/yckim/research/ecg_id/dataset/icentia/processed_1/00135\n",
      "Deleted directory: /home/yckim/research/ecg_id/dataset/icentia/processed_1/09909\n",
      "Deleted directory: /home/yckim/research/ecg_id/dataset/icentia/processed_1/04685\n",
      "Deleted directory: /home/yckim/research/ecg_id/dataset/icentia/processed_1/10757\n",
      "Deleted directory: /home/yckim/research/ecg_id/dataset/icentia/processed_1/04884\n",
      "Deleted directory: /home/yckim/research/ecg_id/dataset/icentia/processed_1/10619\n",
      "Deleted directory: /home/yckim/research/ecg_id/dataset/icentia/processed_1/05145\n",
      "Deleted directory: /home/yckim/research/ecg_id/dataset/icentia/processed_1/05481\n",
      "Deleted directory: /home/yckim/research/ecg_id/dataset/icentia/processed_1/02440\n",
      "Deleted directory: /home/yckim/research/ecg_id/dataset/icentia/processed_1/06900\n",
      "Deleted directory: /home/yckim/research/ecg_id/dataset/icentia/processed_1/00065\n",
      "Deleted directory: /home/yckim/research/ecg_id/dataset/icentia/processed_1/02569\n",
      "Deleted directory: /home/yckim/research/ecg_id/dataset/icentia/processed_1/00921\n",
      "Deleted directory: /home/yckim/research/ecg_id/dataset/icentia/processed_1/07968\n",
      "Deleted directory: /home/yckim/research/ecg_id/dataset/icentia/processed_1/03059\n",
      "Deleted directory: /home/yckim/research/ecg_id/dataset/icentia/processed_1/06298\n",
      "Deleted directory: /home/yckim/research/ecg_id/dataset/icentia/processed_1/04376\n",
      "Deleted directory: /home/yckim/research/ecg_id/dataset/icentia/processed_1/08773\n",
      "Deleted directory: /home/yckim/research/ecg_id/dataset/icentia/processed_1/09968\n",
      "Deleted directory: /home/yckim/research/ecg_id/dataset/icentia/processed_1/00337\n",
      "Deleted directory: /home/yckim/research/ecg_id/dataset/icentia/processed_1/05025\n",
      "Deleted directory: /home/yckim/research/ecg_id/dataset/icentia/processed_1/00636\n",
      "Deleted directory: /home/yckim/research/ecg_id/dataset/icentia/processed_1/00575\n",
      "Deleted directory: /home/yckim/research/ecg_id/dataset/icentia/processed_1/08913\n",
      "Deleted directory: /home/yckim/research/ecg_id/dataset/icentia/processed_1/02449\n",
      "Deleted directory: /home/yckim/research/ecg_id/dataset/icentia/processed_1/10112\n",
      "Deleted directory: /home/yckim/research/ecg_id/dataset/icentia/processed_1/05741\n",
      "Deleted directory: /home/yckim/research/ecg_id/dataset/icentia/processed_1/08282\n",
      "Deleted directory: /home/yckim/research/ecg_id/dataset/icentia/processed_1/06803\n",
      "Deleted directory: /home/yckim/research/ecg_id/dataset/icentia/processed_1/04341\n",
      "Deleted directory: /home/yckim/research/ecg_id/dataset/icentia/processed_1/06016\n",
      "Deleted directory: /home/yckim/research/ecg_id/dataset/icentia/processed_1/10413\n",
      "Deleted directory: /home/yckim/research/ecg_id/dataset/icentia/processed_1/06292\n",
      "Deleted directory: /home/yckim/research/ecg_id/dataset/icentia/processed_1/03765\n",
      "Deleted directory: /home/yckim/research/ecg_id/dataset/icentia/processed_1/07391\n",
      "Deleted directory: /home/yckim/research/ecg_id/dataset/icentia/processed_1/02109\n",
      "Deleted directory: /home/yckim/research/ecg_id/dataset/icentia/processed_1/01221\n",
      "Deleted directory: /home/yckim/research/ecg_id/dataset/icentia/processed_1/01556\n",
      "Deleted directory: /home/yckim/research/ecg_id/dataset/icentia/processed_1/07211\n",
      "Deleted directory: /home/yckim/research/ecg_id/dataset/icentia/processed_1/06895\n",
      "Deleted directory: /home/yckim/research/ecg_id/dataset/icentia/processed_1/04603\n",
      "Deleted directory: /home/yckim/research/ecg_id/dataset/icentia/processed_1/03169\n",
      "Deleted directory: /home/yckim/research/ecg_id/dataset/icentia/processed_1/09400\n",
      "Deleted directory: /home/yckim/research/ecg_id/dataset/icentia/processed_1/02878\n",
      "Deleted directory: /home/yckim/research/ecg_id/dataset/icentia/processed_1/05555\n",
      "Deleted directory: /home/yckim/research/ecg_id/dataset/icentia/processed_1/02496\n",
      "Deleted directory: /home/yckim/research/ecg_id/dataset/icentia/processed_1/01971\n",
      "Deleted directory: /home/yckim/research/ecg_id/dataset/icentia/processed_1/10142\n",
      "Deleted directory: /home/yckim/research/ecg_id/dataset/icentia/processed_1/01563\n",
      "Deleted directory: /home/yckim/research/ecg_id/dataset/icentia/processed_1/05425\n",
      "Deleted directory: /home/yckim/research/ecg_id/dataset/icentia/processed_1/04144\n",
      "Deleted directory: /home/yckim/research/ecg_id/dataset/icentia/processed_1/10284\n",
      "Deleted directory: /home/yckim/research/ecg_id/dataset/icentia/processed_1/00159\n",
      "Deleted directory: /home/yckim/research/ecg_id/dataset/icentia/processed_1/09103\n",
      "Deleted directory: /home/yckim/research/ecg_id/dataset/icentia/processed_1/02968\n",
      "Deleted directory: /home/yckim/research/ecg_id/dataset/icentia/processed_1/06503\n",
      "Deleted directory: /home/yckim/research/ecg_id/dataset/icentia/processed_1/03426\n",
      "Deleted directory: /home/yckim/research/ecg_id/dataset/icentia/processed_1/03827\n",
      "Deleted directory: /home/yckim/research/ecg_id/dataset/icentia/processed_1/07471\n",
      "Deleted directory: /home/yckim/research/ecg_id/dataset/icentia/processed_1/07073\n",
      "Deleted directory: /home/yckim/research/ecg_id/dataset/icentia/processed_1/10554\n",
      "Deleted directory: /home/yckim/research/ecg_id/dataset/icentia/processed_1/10564\n",
      "Deleted directory: /home/yckim/research/ecg_id/dataset/icentia/processed_1/06002\n",
      "Deleted directory: /home/yckim/research/ecg_id/dataset/icentia/processed_1/00508\n",
      "Deleted directory: /home/yckim/research/ecg_id/dataset/icentia/processed_1/04007\n",
      "Deleted directory: /home/yckim/research/ecg_id/dataset/icentia/processed_1/04308\n",
      "Deleted directory: /home/yckim/research/ecg_id/dataset/icentia/processed_1/05355\n",
      "Deleted directory: /home/yckim/research/ecg_id/dataset/icentia/processed_1/10163\n",
      "Deleted directory: /home/yckim/research/ecg_id/dataset/icentia/processed_1/10994\n",
      "Deleted directory: /home/yckim/research/ecg_id/dataset/icentia/processed_1/03218\n",
      "Deleted directory: /home/yckim/research/ecg_id/dataset/icentia/processed_1/01523\n",
      "Deleted directory: /home/yckim/research/ecg_id/dataset/icentia/processed_1/07249\n",
      "Deleted directory: /home/yckim/research/ecg_id/dataset/icentia/processed_1/10141\n",
      "Deleted directory: /home/yckim/research/ecg_id/dataset/icentia/processed_1/03910\n",
      "Deleted directory: /home/yckim/research/ecg_id/dataset/icentia/processed_1/05408\n",
      "Deleted directory: /home/yckim/research/ecg_id/dataset/icentia/processed_1/10395\n",
      "Deleted directory: /home/yckim/research/ecg_id/dataset/icentia/processed_1/07592\n",
      "Deleted directory: /home/yckim/research/ecg_id/dataset/icentia/processed_1/04986\n",
      "Deleted directory: /home/yckim/research/ecg_id/dataset/icentia/processed_1/10939\n",
      "Deleted directory: /home/yckim/research/ecg_id/dataset/icentia/processed_1/10944\n",
      "Deleted directory: /home/yckim/research/ecg_id/dataset/icentia/processed_1/06810\n",
      "Deleted directory: /home/yckim/research/ecg_id/dataset/icentia/processed_1/05719\n",
      "Deleted directory: /home/yckim/research/ecg_id/dataset/icentia/processed_1/06212\n",
      "Deleted directory: /home/yckim/research/ecg_id/dataset/icentia/processed_1/06536\n",
      "Deleted directory: /home/yckim/research/ecg_id/dataset/icentia/processed_1/08144\n",
      "Deleted directory: /home/yckim/research/ecg_id/dataset/icentia/processed_1/03419\n",
      "Deleted directory: /home/yckim/research/ecg_id/dataset/icentia/processed_1/02726\n",
      "Deleted directory: /home/yckim/research/ecg_id/dataset/icentia/processed_1/06755\n",
      "Deleted directory: /home/yckim/research/ecg_id/dataset/icentia/processed_1/06665\n",
      "Deleted directory: /home/yckim/research/ecg_id/dataset/icentia/processed_1/05419\n",
      "Deleted directory: /home/yckim/research/ecg_id/dataset/icentia/processed_1/09443\n",
      "Deleted directory: /home/yckim/research/ecg_id/dataset/icentia/processed_1/06218\n",
      "Deleted directory: /home/yckim/research/ecg_id/dataset/icentia/processed_1/03484\n",
      "Deleted directory: /home/yckim/research/ecg_id/dataset/icentia/processed_1/07790\n",
      "Deleted directory: /home/yckim/research/ecg_id/dataset/icentia/processed_1/03217\n",
      "Deleted directory: /home/yckim/research/ecg_id/dataset/icentia/processed_1/03693\n",
      "Deleted directory: /home/yckim/research/ecg_id/dataset/icentia/processed_1/05380\n",
      "Deleted directory: /home/yckim/research/ecg_id/dataset/icentia/processed_1/01066\n",
      "Deleted directory: /home/yckim/research/ecg_id/dataset/icentia/processed_1/10228\n",
      "Deleted directory: /home/yckim/research/ecg_id/dataset/icentia/processed_1/00886\n",
      "Deleted directory: /home/yckim/research/ecg_id/dataset/icentia/processed_1/10958\n",
      "Deleted directory: /home/yckim/research/ecg_id/dataset/icentia/processed_1/01744\n",
      "Deleted directory: /home/yckim/research/ecg_id/dataset/icentia/processed_1/06722\n",
      "Deleted directory: /home/yckim/research/ecg_id/dataset/icentia/processed_1/07469\n",
      "Deleted directory: /home/yckim/research/ecg_id/dataset/icentia/processed_1/01624\n",
      "Deleted directory: /home/yckim/research/ecg_id/dataset/icentia/processed_1/00560\n",
      "Deleted directory: /home/yckim/research/ecg_id/dataset/icentia/processed_1/07950\n",
      "Deleted directory: /home/yckim/research/ecg_id/dataset/icentia/processed_1/01634\n",
      "Deleted directory: /home/yckim/research/ecg_id/dataset/icentia/processed_1/05361\n",
      "Deleted directory: /home/yckim/research/ecg_id/dataset/icentia/processed_1/07308\n",
      "Deleted directory: /home/yckim/research/ecg_id/dataset/icentia/processed_1/03183\n",
      "Deleted directory: /home/yckim/research/ecg_id/dataset/icentia/processed_1/07487\n",
      "Deleted directory: /home/yckim/research/ecg_id/dataset/icentia/processed_1/01101\n",
      "Deleted directory: /home/yckim/research/ecg_id/dataset/icentia/processed_1/09882\n",
      "Deleted directory: /home/yckim/research/ecg_id/dataset/icentia/processed_1/02657\n",
      "Deleted directory: /home/yckim/research/ecg_id/dataset/icentia/processed_1/08705\n",
      "Deleted directory: /home/yckim/research/ecg_id/dataset/icentia/processed_1/10259\n",
      "Deleted directory: /home/yckim/research/ecg_id/dataset/icentia/processed_1/05611\n",
      "Deleted directory: /home/yckim/research/ecg_id/dataset/icentia/processed_1/03654\n",
      "Deleted directory: /home/yckim/research/ecg_id/dataset/icentia/processed_1/04655\n",
      "Deleted directory: /home/yckim/research/ecg_id/dataset/icentia/processed_1/04459\n",
      "Deleted directory: /home/yckim/research/ecg_id/dataset/icentia/processed_1/10301\n",
      "Deleted directory: /home/yckim/research/ecg_id/dataset/icentia/processed_1/00010\n",
      "Deleted directory: /home/yckim/research/ecg_id/dataset/icentia/processed_1/01562\n",
      "Deleted directory: /home/yckim/research/ecg_id/dataset/icentia/processed_1/03730\n",
      "Deleted directory: /home/yckim/research/ecg_id/dataset/icentia/processed_1/08507\n",
      "Deleted directory: /home/yckim/research/ecg_id/dataset/icentia/processed_1/08128\n",
      "Deleted directory: /home/yckim/research/ecg_id/dataset/icentia/processed_1/01124\n",
      "Deleted directory: /home/yckim/research/ecg_id/dataset/icentia/processed_1/02639\n",
      "Deleted directory: /home/yckim/research/ecg_id/dataset/icentia/processed_1/06381\n",
      "Deleted directory: /home/yckim/research/ecg_id/dataset/icentia/processed_1/08500\n",
      "Deleted directory: /home/yckim/research/ecg_id/dataset/icentia/processed_1/05559\n",
      "Deleted directory: /home/yckim/research/ecg_id/dataset/icentia/processed_1/06144\n",
      "Deleted directory: /home/yckim/research/ecg_id/dataset/icentia/processed_1/00303\n",
      "Deleted directory: /home/yckim/research/ecg_id/dataset/icentia/processed_1/00075\n",
      "Deleted directory: /home/yckim/research/ecg_id/dataset/icentia/processed_1/09976\n",
      "Deleted directory: /home/yckim/research/ecg_id/dataset/icentia/processed_1/03485\n",
      "Deleted directory: /home/yckim/research/ecg_id/dataset/icentia/processed_1/07241\n",
      "Deleted directory: /home/yckim/research/ecg_id/dataset/icentia/processed_1/06266\n",
      "Deleted directory: /home/yckim/research/ecg_id/dataset/icentia/processed_1/08101\n",
      "Deleted directory: /home/yckim/research/ecg_id/dataset/icentia/processed_1/07984\n",
      "Deleted directory: /home/yckim/research/ecg_id/dataset/icentia/processed_1/10964\n",
      "Deleted directory: /home/yckim/research/ecg_id/dataset/icentia/processed_1/10677\n",
      "Deleted directory: /home/yckim/research/ecg_id/dataset/icentia/processed_1/04301\n",
      "Deleted directory: /home/yckim/research/ecg_id/dataset/icentia/processed_1/03528\n",
      "Deleted directory: /home/yckim/research/ecg_id/dataset/icentia/processed_1/09493\n",
      "Deleted directory: /home/yckim/research/ecg_id/dataset/icentia/processed_1/08436\n",
      "Deleted directory: /home/yckim/research/ecg_id/dataset/icentia/processed_1/03058\n",
      "Deleted directory: /home/yckim/research/ecg_id/dataset/icentia/processed_1/02914\n",
      "Deleted directory: /home/yckim/research/ecg_id/dataset/icentia/processed_1/01166\n",
      "Deleted directory: /home/yckim/research/ecg_id/dataset/icentia/processed_1/05599\n",
      "Deleted directory: /home/yckim/research/ecg_id/dataset/icentia/processed_1/07825\n",
      "Deleted directory: /home/yckim/research/ecg_id/dataset/icentia/processed_1/02231\n",
      "Deleted directory: /home/yckim/research/ecg_id/dataset/icentia/processed_1/10518\n",
      "Deleted directory: /home/yckim/research/ecg_id/dataset/icentia/processed_1/03047\n",
      "Deleted directory: /home/yckim/research/ecg_id/dataset/icentia/processed_1/10691\n",
      "Deleted directory: /home/yckim/research/ecg_id/dataset/icentia/processed_1/06248\n",
      "Deleted directory: /home/yckim/research/ecg_id/dataset/icentia/processed_1/05047\n",
      "Deleted directory: /home/yckim/research/ecg_id/dataset/icentia/processed_1/01680\n",
      "Deleted directory: /home/yckim/research/ecg_id/dataset/icentia/processed_1/08400\n",
      "Deleted directory: /home/yckim/research/ecg_id/dataset/icentia/processed_1/01909\n",
      "Deleted directory: /home/yckim/research/ecg_id/dataset/icentia/processed_1/07721\n",
      "Deleted directory: /home/yckim/research/ecg_id/dataset/icentia/processed_1/04793\n",
      "Deleted directory: /home/yckim/research/ecg_id/dataset/icentia/processed_1/10576\n",
      "Deleted directory: /home/yckim/research/ecg_id/dataset/icentia/processed_1/10051\n",
      "Deleted directory: /home/yckim/research/ecg_id/dataset/icentia/processed_1/10151\n",
      "Deleted directory: /home/yckim/research/ecg_id/dataset/icentia/processed_1/03348\n",
      "Deleted directory: /home/yckim/research/ecg_id/dataset/icentia/processed_1/09888\n",
      "Deleted directory: /home/yckim/research/ecg_id/dataset/icentia/processed_1/00535\n",
      "Deleted directory: /home/yckim/research/ecg_id/dataset/icentia/processed_1/09257\n",
      "Deleted directory: /home/yckim/research/ecg_id/dataset/icentia/processed_1/00766\n",
      "Deleted directory: /home/yckim/research/ecg_id/dataset/icentia/processed_1/08874\n",
      "Deleted directory: /home/yckim/research/ecg_id/dataset/icentia/processed_1/08689\n",
      "Deleted directory: /home/yckim/research/ecg_id/dataset/icentia/processed_1/05978\n",
      "Deleted directory: /home/yckim/research/ecg_id/dataset/icentia/processed_1/03085\n",
      "Deleted directory: /home/yckim/research/ecg_id/dataset/icentia/processed_1/10839\n",
      "Deleted directory: /home/yckim/research/ecg_id/dataset/icentia/processed_1/07043\n",
      "Deleted directory: /home/yckim/research/ecg_id/dataset/icentia/processed_1/03283\n",
      "Deleted directory: /home/yckim/research/ecg_id/dataset/icentia/processed_1/02884\n",
      "Deleted directory: /home/yckim/research/ecg_id/dataset/icentia/processed_1/10979\n",
      "Deleted directory: /home/yckim/research/ecg_id/dataset/icentia/processed_1/06149\n",
      "Deleted directory: /home/yckim/research/ecg_id/dataset/icentia/processed_1/00963\n",
      "Deleted directory: /home/yckim/research/ecg_id/dataset/icentia/processed_1/04620\n",
      "Deleted directory: /home/yckim/research/ecg_id/dataset/icentia/processed_1/10702\n",
      "Deleted directory: /home/yckim/research/ecg_id/dataset/icentia/processed_1/01190\n",
      "Deleted directory: /home/yckim/research/ecg_id/dataset/icentia/processed_1/06270\n",
      "Deleted directory: /home/yckim/research/ecg_id/dataset/icentia/processed_1/00404\n",
      "Deleted directory: /home/yckim/research/ecg_id/dataset/icentia/processed_1/02362\n",
      "Deleted directory: /home/yckim/research/ecg_id/dataset/icentia/processed_1/07096\n",
      "Deleted directory: /home/yckim/research/ecg_id/dataset/icentia/processed_1/02001\n",
      "Deleted directory: /home/yckim/research/ecg_id/dataset/icentia/processed_1/05542\n",
      "Deleted directory: /home/yckim/research/ecg_id/dataset/icentia/processed_1/04300\n",
      "Deleted directory: /home/yckim/research/ecg_id/dataset/icentia/processed_1/04401\n",
      "Deleted directory: /home/yckim/research/ecg_id/dataset/icentia/processed_1/09704\n",
      "Deleted directory: /home/yckim/research/ecg_id/dataset/icentia/processed_1/10339\n",
      "Deleted directory: /home/yckim/research/ecg_id/dataset/icentia/processed_1/02361\n",
      "Deleted directory: /home/yckim/research/ecg_id/dataset/icentia/processed_1/03244\n",
      "Deleted directory: /home/yckim/research/ecg_id/dataset/icentia/processed_1/08295\n",
      "Deleted directory: /home/yckim/research/ecg_id/dataset/icentia/processed_1/00323\n",
      "Deleted directory: /home/yckim/research/ecg_id/dataset/icentia/processed_1/08335\n",
      "Deleted directory: /home/yckim/research/ecg_id/dataset/icentia/processed_1/04497\n",
      "Deleted directory: /home/yckim/research/ecg_id/dataset/icentia/processed_1/02906\n",
      "Deleted directory: /home/yckim/research/ecg_id/dataset/icentia/processed_1/03163\n",
      "Deleted directory: /home/yckim/research/ecg_id/dataset/icentia/processed_1/02443\n",
      "Deleted directory: /home/yckim/research/ecg_id/dataset/icentia/processed_1/04721\n",
      "Deleted directory: /home/yckim/research/ecg_id/dataset/icentia/processed_1/02033\n",
      "Deleted directory: /home/yckim/research/ecg_id/dataset/icentia/processed_1/01503\n",
      "Deleted directory: /home/yckim/research/ecg_id/dataset/icentia/processed_1/02664\n",
      "Deleted directory: /home/yckim/research/ecg_id/dataset/icentia/processed_1/07285\n",
      "Deleted directory: /home/yckim/research/ecg_id/dataset/icentia/processed_1/05706\n",
      "Deleted directory: /home/yckim/research/ecg_id/dataset/icentia/processed_1/03066\n",
      "Deleted directory: /home/yckim/research/ecg_id/dataset/icentia/processed_1/05824\n",
      "Deleted directory: /home/yckim/research/ecg_id/dataset/icentia/processed_1/00268\n",
      "Deleted directory: /home/yckim/research/ecg_id/dataset/icentia/processed_1/01281\n",
      "Deleted directory: /home/yckim/research/ecg_id/dataset/icentia/processed_1/04422\n",
      "Deleted directory: /home/yckim/research/ecg_id/dataset/icentia/processed_1/05803\n",
      "Deleted directory: /home/yckim/research/ecg_id/dataset/icentia/processed_1/05476\n",
      "Deleted directory: /home/yckim/research/ecg_id/dataset/icentia/processed_1/04834\n",
      "Deleted directory: /home/yckim/research/ecg_id/dataset/icentia/processed_1/03677\n",
      "Deleted directory: /home/yckim/research/ecg_id/dataset/icentia/processed_1/10429\n",
      "Deleted directory: /home/yckim/research/ecg_id/dataset/icentia/processed_1/01507\n",
      "Deleted directory: /home/yckim/research/ecg_id/dataset/icentia/processed_1/04227\n",
      "Deleted directory: /home/yckim/research/ecg_id/dataset/icentia/processed_1/06763\n",
      "Deleted directory: /home/yckim/research/ecg_id/dataset/icentia/processed_1/09942\n",
      "Deleted directory: /home/yckim/research/ecg_id/dataset/icentia/processed_1/09800\n",
      "Deleted directory: /home/yckim/research/ecg_id/dataset/icentia/processed_1/10212\n",
      "Deleted directory: /home/yckim/research/ecg_id/dataset/icentia/processed_1/02844\n",
      "Deleted directory: /home/yckim/research/ecg_id/dataset/icentia/processed_1/05125\n",
      "Deleted directory: /home/yckim/research/ecg_id/dataset/icentia/processed_1/08975\n",
      "Deleted directory: /home/yckim/research/ecg_id/dataset/icentia/processed_1/02252\n"
     ]
    }
   ],
   "source": [
    "import shutil\n",
    "\n",
    "def delete_directories(file_paths):\n",
    "    # 파일 경로에서 디렉토리 경로 추출\n",
    "    directories = {os.path.dirname(file_path) for file_path in file_paths}\n",
    "    \n",
    "    # 디렉토리 삭제\n",
    "    for directory in directories:\n",
    "        if os.path.exists(directory):\n",
    "            try:\n",
    "                shutil.rmtree(directory)\n",
    "                print(f\"Deleted directory: {directory}\")\n",
    "            except Exception as e:\n",
    "                print(f\"Failed to delete {directory}: {e}\")\n",
    "        else:\n",
    "            print(f\"Directory does not exist: {directory}\")\n",
    "\n",
    "# 예시 파일 경로 리스트\n",
    "file_paths = corrupted_list\n",
    "\n",
    "# 디렉토리 삭제 실행\n",
    "delete_directories(file_paths)"
   ]
  },
  {
   "cell_type": "code",
   "execution_count": 197,
   "id": "9f327b53-7a00-4970-a68e-e94040a195f3",
   "metadata": {},
   "outputs": [
    {
     "data": {
      "text/plain": [
       "'/home/yckim/research/ecg_id/dataset/icentia/processed_1/05519/05519.npz'"
      ]
     },
     "execution_count": 197,
     "metadata": {},
     "output_type": "execute_result"
    }
   ],
   "source": [
    "data_path"
   ]
  },
  {
   "cell_type": "code",
   "execution_count": 7,
   "id": "6c3513cb-2713-4090-8353-ab436ddc37d2",
   "metadata": {},
   "outputs": [],
   "source": [
    "import numpy as np\n",
    "import pandas as pd\n",
    "import random\n",
    "import pyarrow\n",
    "import utils\n",
    "from sklearn.utils import shuffle\n",
    "import tqdm\n",
    "import os\n",
    "\n",
    "\n",
    "def build_dataset(template_n=20, **kwargs) -> np.array:\n",
    "    \"\"\"\n",
    "    1. Calculate a template ECG segment using 'template_n' fragments\n",
    "    2. Form dataset by collecting rest of individual ECG fragment which is labeled as 1.\n",
    "    3. Form dataset by collecting other subjects ECG fragment which is labeled as 0.\n",
    "    4. \n",
    "    \"\"\"\n",
    "    data_dict = kwargs['data_dict']\n",
    "    dataset = []\n",
    "    label = []\n",
    "    random.seed(42)\n",
    "    \n",
    "    for target_indx in tqdm.tqdm(data_dict.keys(), desc=f\"Loading {kwargs['desc']} dataset\"):\n",
    "        template_pulse = np.mean(data_dict[target_indx][:template_n], axis=0)\n",
    "        target_pulses = data_dict[target_indx][template_n:]\n",
    "    \n",
    "        # Lable 1: matching pulse\n",
    "        for i in range(len(target_pulses)):\n",
    "            dataset.append([template_pulse, target_pulses[i]])\n",
    "            label.append(1)\n",
    "            \n",
    "        # label 0: not matching pulse\n",
    "        subjects = list(data_dict.keys())\n",
    "        subjects.remove(target_indx)\n",
    "\n",
    "        for i in range(len(target_pulses)):\n",
    "            random_sub = random.choice(subjects)\n",
    "            other_sub_data = data_dict[random_sub]\n",
    "            random_data = random.choice(other_sub_data)\n",
    "            dataset.append([template_pulse, random_data])\n",
    "            label.append(0)\n",
    "\n",
    "    print(f\"Built {kwargs['desc']} dataset with {len(dataset)} samples\")\n",
    "    print(np.array(dataset).shape)\n",
    "    dataset_array = np.swapaxes(np.array(dataset), 1, 2)\n",
    "    return dataset_array, np.array(label)\n",
    "    \n",
    "\n",
    "def divide_subject(sub_list, data_list, **kwargs):\n",
    "    \"\"\"\n",
    "    1. Subject wise grouping\n",
    "    2. Train, validation, test split. \n",
    "        If you want to set ratio of train: validation: test, input data_ratio\n",
    "    3. Result is dictionary, {'subject_number': [Index]}\n",
    "    Future work, cross-validation\n",
    "    \"\"\"        \n",
    "    if 'data_ratio' in kwargs:\n",
    "        print(f\"Ratio of Train, Validation, Test is set to {kwargs['data_ratio']}.\")\n",
    "        data_ratio = kwargs['data_ratio']\n",
    "    else:\n",
    "        print('Ratio of Train, Validation, Test is not set. This will be set as default, 7:2:1')\n",
    "        data_ratio = [7,2,1]\n",
    "    \n",
    "    total_n = len(sub_list)\n",
    "    train_n = data_ratio[0]*total_n//10\n",
    "    val_n = data_ratio[1]*total_n//10\n",
    "    test_n = total_n-train_n-val_n\n",
    "    \n",
    "    # Sorting -> maintaining train, val, test equally\n",
    "    sub_list_sorted = [(i, val) for i, val in enumerate(sub_list)]\n",
    "    sub_list_sorted.sort(key=lambda x: x[1])\n",
    "    data_list_sorted = [data_list[i] for i, _ in sub_list_sorted]\n",
    "    \n",
    "    train_sub_list = sub_list_sorted[0:train_n]\n",
    "    train_data_list = data_list_sorted[0:train_n]\n",
    "    val_sub_list = sub_list_sorted[train_n:train_n+val_n]\n",
    "    val_data_list = data_list_sorted[train_n:train_n+val_n]\n",
    "    test_sub_list = sub_list_sorted[train_n+val_n:train_n+val_n+test_n]\n",
    "    test_data_list = data_list_sorted[train_n+val_n:train_n+val_n+test_n]\n",
    "\n",
    "    train_dict = {subject: data_list for subject, data_list in zip(train_sub_list, train_data_list)}\n",
    "    val_dict = {subject: data_list for subject, data_list in zip(val_sub_list, val_data_list)}\n",
    "    test_dict = {subject: data_list for subject, data_list in zip(test_sub_list, test_data_list)}\n",
    "    \n",
    "    print(f\"Divided into train: {len(train_dict)}, val: {len(val_dict)}, test: {len(test_dict)}\")\n",
    "    return train_dict, val_dict, test_dict\n",
    "    \n",
    "\n",
    "def prep_dataset(**kwargs):\n",
    "    data_list = []\n",
    "    sub_name_list = []\n",
    "    for data_path in kwargs['dataset_path_list']:\n",
    "        dataset = np.load(data_path, allow_pickle=True)\n",
    "        data = dataset[\"data\"]\n",
    "        label = os.path.splitext(os.path.split(data_path)[-1])[0]\n",
    "        if len(data) > kwargs['min_data_cnt']:  # More than 100 data per patient remain\n",
    "            data_list.append(data[:kwargs['min_data_cnt']])\n",
    "            sub_name_list.append(label)\n",
    "    \n",
    "    # Subject wise division using filtered label (index)\n",
    "    train_dict, val_dict, test_dict = divide_subject(sub_name_list, data_list)\n",
    "    train_dataset, train_label = build_dataset(data_dict=train_dict, desc='train')\n",
    "    val_dataset, val_label = build_dataset(data_dict=val_dict, desc='validation')\n",
    "    test_dataset, test_label = build_dataset(data_dict=test_dict, desc='test')\n",
    "\n",
    "    x_train, y_train = shuffle(train_dataset, train_label, random_state=0)\n",
    "    x_val, y_val = shuffle(val_dataset, val_label, random_state=0)\n",
    "    x_test, y_test = shuffle(test_dataset, test_label, random_state=0)\n",
    "\n",
    "    dataset_dict = {'x_train': np.array(x_train), 'y_train': np.array(y_train),\n",
    "                    'x_val': np.array(x_val), 'y_val': np.array(y_val),\n",
    "                    'x_test': np.array(x_test), 'y_test': np.array(y_test)}\n",
    "\n",
    "    print(f\"Train data size: {len(dataset_dict['x_train'])}\")\n",
    "    print(f\"Validation data size: {len(dataset_dict['x_val'])}\")\n",
    "    print(f\"Test data size: {len(dataset_dict['x_test'])}\")\n",
    "    \n",
    "    return dataset_dict"
   ]
  },
  {
   "cell_type": "code",
   "execution_count": 294,
   "id": "15659bff-23e8-4f62-bf1d-56fe4257ff92",
   "metadata": {},
   "outputs": [
    {
     "name": "stdout",
     "output_type": "stream",
     "text": [
      "10 paths are found\n"
     ]
    }
   ],
   "source": [
    "# Custom dataset txt to npz\n",
    "origin_file_path_list = utils.path_finder(\"/home/yckim/research/ecg_id/dataset/sm/origin\", \".txt\")\n",
    "\n",
    "base_save_dir = \"/home/yckim/research/ecg_id/dataset/sm/raw\"\n",
    "\n",
    "for origin_file_path in origin_file_path_list:\n",
    "    data = open(origin_file_path, 'r')\n",
    "    file_name = os.path.splitext(os.path.basename(origin_file_path))[0]\n",
    "    save_path = os.path.join(base_save_dir, file_name, file_name)\n",
    "    utils.make_save_dir(save_path)\n",
    "    \n",
    "    seat_ecg_sig = []\n",
    "    ref_ecg_sig = []\n",
    "    \n",
    "    lines = data.readlines()\n",
    "    for element in lines:\n",
    "        data_part = element.split('\\t')\n",
    "        seat_ecg_sig.append(float(data_part[0]))\n",
    "        ref_ecg_sig.append(float(data_part[1]))\n",
    "    \n",
    "    seat_array = np.array(seat_ecg_sig)\n",
    "    ref_array = np.array(ref_ecg_sig)\n",
    "    \n",
    "    np.savez(save_path, data=seat_array, reference=ref_array)"
   ]
  },
  {
   "cell_type": "code",
   "execution_count": null,
   "id": "e0d084e1-be16-4a36-961d-2579a5cf1f3a",
   "metadata": {},
   "outputs": [],
   "source": [
    "def triplet_loss(y_true, y_pred, alpha=0.2):\n",
    "    anchor, positive, negative = y_pred[0], y_pred[1], y_pred[2]\n",
    "    \n",
    "    # Euclidean distance\n",
    "    pos_dist = K.sqrt(K.sum(K.square(anchor - positive), axis=1))\n",
    "    neg_dist = K.sqrt(K.sum(K.square(anchor - negative), axis=1))\n",
    "    \n",
    "    # Triplet Loss calculation\n",
    "    loss = K.mean(K.maximum(pos_dist - neg_dist + alpha, 0.0))\n",
    "    return loss"
   ]
  },
  {
   "cell_type": "code",
   "execution_count": 36,
   "id": "60a57bdb-5c47-4132-8317-39bbe5530515",
   "metadata": {},
   "outputs": [
    {
     "name": "stdout",
     "output_type": "stream",
     "text": [
      "Ratio of Train, Validation, Test is not set. This will be set as default, 7:2:1\n",
      "Divided into train: 34, val: 9, test: 6\n"
     ]
    },
    {
     "name": "stderr",
     "output_type": "stream",
     "text": [
      "Loading train dataset: 100%|████████████████████████████████████████████████████████████████████████████████████████████████████████████| 34/34 [00:00<00:00, 13530.01it/s]\n"
     ]
    },
    {
     "name": "stdout",
     "output_type": "stream",
     "text": [
      "Built train dataset with 2040 samples\n",
      "(2040, 2, 200)\n"
     ]
    },
    {
     "name": "stderr",
     "output_type": "stream",
     "text": [
      "Loading validation dataset: 100%|█████████████████████████████████████████████████████████████████████████████████████████████████████████| 9/9 [00:00<00:00, 16688.21it/s]\n"
     ]
    },
    {
     "name": "stdout",
     "output_type": "stream",
     "text": [
      "Built validation dataset with 540 samples\n",
      "(540, 2, 200)\n"
     ]
    },
    {
     "name": "stderr",
     "output_type": "stream",
     "text": [
      "Loading test dataset: 100%|███████████████████████████████████████████████████████████████████████████████████████████████████████████████| 6/6 [00:00<00:00, 11859.48it/s]"
     ]
    },
    {
     "name": "stdout",
     "output_type": "stream",
     "text": [
      "Built test dataset with 360 samples\n",
      "(360, 2, 200)\n",
      "Train data size: 2040\n",
      "Validation data size: 540\n",
      "Test data size: 360\n"
     ]
    },
    {
     "name": "stderr",
     "output_type": "stream",
     "text": [
      "\n"
     ]
    }
   ],
   "source": [
    "# transfer learning for steering wheel dataset\n",
    "base_model = model\n",
    "min_data_cnt = 50\n",
    "\n"
   ]
  },
  {
   "cell_type": "code",
   "execution_count": 44,
   "id": "57224a67-3c51-427a-a09c-15d06425383d",
   "metadata": {},
   "outputs": [
    {
     "name": "stdout",
     "output_type": "stream",
     "text": [
      "Model: \"model_1\"\n",
      "__________________________________________________________________________________________________\n",
      " Layer (type)                Output Shape                 Param #   Connected to                  \n",
      "==================================================================================================\n",
      " input_2 (InputLayer)        [(None, 200, 1)]             0         []                            \n",
      "                                                                                                  \n",
      " input_3 (InputLayer)        [(None, 200, 1)]             0         []                            \n",
      "                                                                                                  \n",
      " model (Functional)          (None, 200, 50)              5400      ['input_2[0][0]',             \n",
      "                                                                     'input_3[0][0]']             \n",
      "                                                                                                  \n",
      " lambda (Lambda)             (None, 200, 50)              0         ['model[0][0]',               \n",
      "                                                                     'model[1][0]']               \n",
      "                                                                                                  \n",
      " flatten (Flatten)           (None, 10000)                0         ['lambda[0][0]']              \n",
      "                                                                                                  \n",
      " dense (Dense)               (None, 32)                   320032    ['flatten[0][0]']             \n",
      "                                                                                                  \n",
      " batch_normalization (Batch  (None, 32)                   128       ['dense[0][0]']               \n",
      " Normalization)                                                                                   \n",
      "                                                                                                  \n",
      " activation (Activation)     (None, 32)                   0         ['batch_normalization[0][0]'] \n",
      "                                                                                                  \n",
      " dropout (Dropout)           (None, 32)                   0         ['activation[0][0]']          \n",
      "                                                                                                  \n",
      " dense_1 (Dense)             (None, 1)                    33        ['dropout[0][0]']             \n",
      "                                                                                                  \n",
      "==================================================================================================\n",
      "Total params: 325593 (1.24 MB)\n",
      "Trainable params: 325529 (1.24 MB)\n",
      "Non-trainable params: 64 (256.00 Byte)\n",
      "__________________________________________________________________________________________________\n"
     ]
    }
   ],
   "source": [
    "base_model.summary()"
   ]
  },
  {
   "cell_type": "code",
   "execution_count": 51,
   "id": "0301703b-f663-4387-be3a-8f8c3dc907d6",
   "metadata": {},
   "outputs": [],
   "source": [
    "base_model = model\n",
    "for i in range(len(base_model.layers)):\n",
    "    base_model.layers[i].trainable = False\n",
    "base_model.layers[9].trainable = True\n",
    "\n",
    "new_model = base_model"
   ]
  },
  {
   "cell_type": "code",
   "execution_count": 59,
   "id": "c8235e16-9cee-4107-97c8-e8cf5093f2da",
   "metadata": {
    "collapsed": true,
    "jupyter": {
     "outputs_hidden": true
    }
   },
   "outputs": [
    {
     "name": "stdout",
     "output_type": "stream",
     "text": [
      "Ratio of Train, Validation, Test is not set. This will be set as default, 7:2:1\n",
      "Divided into train: 3, val: 1, test: 1\n"
     ]
    },
    {
     "name": "stderr",
     "output_type": "stream",
     "text": [
      "Loading train dataset: 100%|███████████████████████████████████████████████████████████████████████████████████████████████████████████████| 3/3 [00:00<00:00, 5570.12it/s]\n"
     ]
    },
    {
     "name": "stdout",
     "output_type": "stream",
     "text": [
      "Built train dataset with 180 samples\n",
      "(180, 2, 200)\n"
     ]
    },
    {
     "name": "stderr",
     "output_type": "stream",
     "text": [
      "Loading validation dataset:   0%|                                                                                                                    | 0/1 [00:00<?, ?it/s]\n"
     ]
    },
    {
     "ename": "IndexError",
     "evalue": "Cannot choose from an empty sequence",
     "output_type": "error",
     "traceback": [
      "\u001b[0;31m---------------------------------------------------------------------------\u001b[0m",
      "\u001b[0;31mIndexError\u001b[0m                                Traceback (most recent call last)",
      "Cell \u001b[0;32mIn[59], line 7\u001b[0m\n\u001b[1;32m      4\u001b[0m min_data_cnt \u001b[38;5;241m=\u001b[39m \u001b[38;5;241m50\u001b[39m\n\u001b[1;32m      6\u001b[0m \u001b[38;5;66;03m# 데이터 준비 (예시)\u001b[39;00m\n\u001b[0;32m----> 7\u001b[0m dataset_dict \u001b[38;5;241m=\u001b[39m \u001b[43mprepdataset\u001b[49m\u001b[38;5;241;43m.\u001b[39;49m\u001b[43mprep_dataset\u001b[49m\u001b[43m(\u001b[49m\u001b[43mdataset_path_list\u001b[49m\u001b[38;5;241;43m=\u001b[39;49m\u001b[43mdata_path_list\u001b[49m\u001b[43m,\u001b[49m\u001b[43m \u001b[49m\u001b[43mmin_data_cnt\u001b[49m\u001b[43m \u001b[49m\u001b[38;5;241;43m=\u001b[39;49m\u001b[43m \u001b[49m\u001b[43mmin_data_cnt\u001b[49m\u001b[43m)\u001b[49m\n\u001b[1;32m      9\u001b[0m \u001b[38;5;66;03m# 모델 학습\u001b[39;00m\n\u001b[1;32m     10\u001b[0m x_train_temp \u001b[38;5;241m=\u001b[39m dataset_dict\u001b[38;5;241m.\u001b[39mget(\u001b[38;5;124m'\u001b[39m\u001b[38;5;124mx_train\u001b[39m\u001b[38;5;124m'\u001b[39m)[:,:,:\u001b[38;5;241m1\u001b[39m]\n",
      "File \u001b[0;32m~/research/ecg_id/src/prepdataset.py:103\u001b[0m, in \u001b[0;36mprep_dataset\u001b[0;34m(**kwargs)\u001b[0m\n\u001b[1;32m    101\u001b[0m train_dict, val_dict, test_dict \u001b[38;5;241m=\u001b[39m divide_subject(sub_name_list, data_list)\n\u001b[1;32m    102\u001b[0m train_dataset, train_label \u001b[38;5;241m=\u001b[39m build_dataset(data_dict\u001b[38;5;241m=\u001b[39mtrain_dict, desc\u001b[38;5;241m=\u001b[39m\u001b[38;5;124m'\u001b[39m\u001b[38;5;124mtrain\u001b[39m\u001b[38;5;124m'\u001b[39m)\n\u001b[0;32m--> 103\u001b[0m val_dataset, val_label \u001b[38;5;241m=\u001b[39m \u001b[43mbuild_dataset\u001b[49m\u001b[43m(\u001b[49m\u001b[43mdata_dict\u001b[49m\u001b[38;5;241;43m=\u001b[39;49m\u001b[43mval_dict\u001b[49m\u001b[43m,\u001b[49m\u001b[43m \u001b[49m\u001b[43mdesc\u001b[49m\u001b[38;5;241;43m=\u001b[39;49m\u001b[38;5;124;43m'\u001b[39;49m\u001b[38;5;124;43mvalidation\u001b[39;49m\u001b[38;5;124;43m'\u001b[39;49m\u001b[43m)\u001b[49m\n\u001b[1;32m    104\u001b[0m test_dataset, test_label \u001b[38;5;241m=\u001b[39m build_dataset(data_dict\u001b[38;5;241m=\u001b[39mtest_dict, desc\u001b[38;5;241m=\u001b[39m\u001b[38;5;124m'\u001b[39m\u001b[38;5;124mtest\u001b[39m\u001b[38;5;124m'\u001b[39m)\n\u001b[1;32m    106\u001b[0m x_train, y_train \u001b[38;5;241m=\u001b[39m shuffle(train_dataset, train_label, random_state\u001b[38;5;241m=\u001b[39m\u001b[38;5;241m0\u001b[39m)\n",
      "File \u001b[0;32m~/research/ecg_id/src/prepdataset.py:37\u001b[0m, in \u001b[0;36mbuild_dataset\u001b[0;34m(template_n, **kwargs)\u001b[0m\n\u001b[1;32m     34\u001b[0m subjects\u001b[38;5;241m.\u001b[39mremove(target_indx)\n\u001b[1;32m     36\u001b[0m \u001b[38;5;28;01mfor\u001b[39;00m i \u001b[38;5;129;01min\u001b[39;00m \u001b[38;5;28mrange\u001b[39m(\u001b[38;5;28mlen\u001b[39m(target_pulses)):\n\u001b[0;32m---> 37\u001b[0m     random_sub \u001b[38;5;241m=\u001b[39m \u001b[43mrandom\u001b[49m\u001b[38;5;241;43m.\u001b[39;49m\u001b[43mchoice\u001b[49m\u001b[43m(\u001b[49m\u001b[43msubjects\u001b[49m\u001b[43m)\u001b[49m\n\u001b[1;32m     38\u001b[0m     other_sub_data \u001b[38;5;241m=\u001b[39m data_dict[random_sub]\n\u001b[1;32m     39\u001b[0m     random_data \u001b[38;5;241m=\u001b[39m random\u001b[38;5;241m.\u001b[39mchoice(other_sub_data)\n",
      "File \u001b[0;32m~/anaconda3/envs/ml2310/lib/python3.11/random.py:373\u001b[0m, in \u001b[0;36mRandom.choice\u001b[0;34m(self, seq)\u001b[0m\n\u001b[1;32m    370\u001b[0m \u001b[38;5;66;03m# As an accommodation for NumPy, we don't use \"if not seq\"\u001b[39;00m\n\u001b[1;32m    371\u001b[0m \u001b[38;5;66;03m# because bool(numpy.array()) raises a ValueError.\u001b[39;00m\n\u001b[1;32m    372\u001b[0m \u001b[38;5;28;01mif\u001b[39;00m \u001b[38;5;129;01mnot\u001b[39;00m \u001b[38;5;28mlen\u001b[39m(seq):\n\u001b[0;32m--> 373\u001b[0m     \u001b[38;5;28;01mraise\u001b[39;00m \u001b[38;5;167;01mIndexError\u001b[39;00m(\u001b[38;5;124m'\u001b[39m\u001b[38;5;124mCannot choose from an empty sequence\u001b[39m\u001b[38;5;124m'\u001b[39m)\n\u001b[1;32m    374\u001b[0m \u001b[38;5;28;01mreturn\u001b[39;00m seq[\u001b[38;5;28mself\u001b[39m\u001b[38;5;241m.\u001b[39m_randbelow(\u001b[38;5;28mlen\u001b[39m(seq))]\n",
      "\u001b[0;31mIndexError\u001b[0m: Cannot choose from an empty sequence"
     ]
    }
   ],
   "source": [
    "# 모델 컴파일\n",
    "new_model.compile(optimizer='adam', loss=tf.keras.losses.BinaryCrossentropy(), metrics=['accuracy'])\n",
    "\n",
    "min_data_cnt = 50\n",
    "\n",
    "# 데이터 준비 (예시)\n",
    "dataset_dict = prepdataset.prep_dataset(dataset_path_list=data_path_list, min_data_cnt = min_data_cnt)\n",
    "\n",
    "# 모델 학습\n",
    "x_train_temp = dataset_dict.get('x_train')[:,:,:1]\n",
    "x_train_targ = dataset_dict.get('x_train')[:,:,1:]\n",
    "y_train = dataset_dict.get('y_train')\n",
    "\n",
    "x_val_temp = dataset_dict.get('x_val')[:,:,:1]\n",
    "x_val_targ = dataset_dict.get('x_val')[:,:,1:]\n",
    "y_val = dataset_dict.get('y_val')\n",
    "\n",
    "callback = EarlyStopping(monitor='val_loss', patience=5, restore_best_weights=True)\n",
    "history = new_model.fit(\n",
    "        [x_train_temp, x_train_targ], \n",
    "        y_train,\n",
    "        batch_size=16,\n",
    "        verbose='auto',\n",
    "        epochs=args.epochs,\n",
    "        callbacks = [callback],\n",
    "        validation_data=([x_val_temp, x_val_targ], y_val))\n",
    "return model, history"
   ]
  },
  {
   "cell_type": "code",
   "execution_count": 47,
   "id": "46a22496-438b-40f6-97b2-54699015cb1e",
   "metadata": {},
   "outputs": [],
   "source": [
    "raw_data = np.load(\"/home/yckim/research/ecg_id/dataset/sw/raw/0902_hwson_sw/0902_hwson_sw.npz\")['data']\n",
    "resampled_raw_data = resample(raw_data[:10000], 1250)"
   ]
  },
  {
   "cell_type": "code",
   "execution_count": null,
   "id": "acd89b1c-6403-4c8e-b036-d38516d30ebe",
   "metadata": {},
   "outputs": [],
   "source": [
    "# template acquisition sequence\n",
    "import ecg_prep\n",
    "\n",
    "def build_dirs(proj_dir):\n",
    "    template_data_dir = os.path.join(proj_dir, \"data\", \"template\")\n",
    "    save_data_dir = os.path.join(proj_dir, \"data\", f\"processed\")\n",
    "    return {\"template_data_dir\": template_data_dir, \"save_data_dir\": save_data_dir}\n",
    "\n",
    "\n",
    "dir_dict = build_dirs(\"/home/yckim/research/ecg_id/dataset/sw/real_time_test/\")\n",
    "filter_params = {'lowcut':0.8, 'highcut':40, 'ripple':0.5, 'order':4}\n",
    "ecg_preprocessor = ECGPreprocessor(filter_params = filter_params, dir_dict=dir_dict)\n",
    "processed_sig = ecg_preprocessor.process(raw_ecg_sig = resampled_raw_data, dir_dict=dir_dict, filter_params=filter_params)\n",
    "template_data_list = utils.path_finder(dir_dict['raw_data_dir'], '.npz')\n",
    "\n",
    "temp_ecg = []\n",
    "ecg_repo = []\n",
    "flg = True\n",
    "while flg:\n",
    "    data = real_time_acq()\n",
    "    ecg_prep.process_ecg_data()\n",
    "    if processed_sig.shape[0] == 0:\n",
    "        print('Retry')\n",
    "    else:\n",
    "        print('Go')"
   ]
  }
 ],
 "metadata": {
  "kernelspec": {
   "display_name": "Python 3 (ipykernel)",
   "language": "python",
   "name": "python3"
  },
  "language_info": {
   "codemirror_mode": {
    "name": "ipython",
    "version": 3
   },
   "file_extension": ".py",
   "mimetype": "text/x-python",
   "name": "python",
   "nbconvert_exporter": "python",
   "pygments_lexer": "ipython3",
   "version": "3.8.10"
  }
 },
 "nbformat": 4,
 "nbformat_minor": 5
}
